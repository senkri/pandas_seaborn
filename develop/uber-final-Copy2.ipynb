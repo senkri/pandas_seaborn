{
 "cells": [
  {
   "cell_type": "code",
   "execution_count": 71,
   "metadata": {
    "collapsed": true
   },
   "outputs": [],
   "source": [
    "%matplotlib inline\n",
    "\n",
    "# scientific packages\n",
    "import numpy as np\n",
    "import pandas as pd\n",
    "import patsy as pt\n",
    "import matplotlib.pyplot as plt\n",
    "import seaborn as sns\n",
    "from dateutil import relativedelta\n",
    "sns.set();"
   ]
  },
  {
   "cell_type": "code",
   "execution_count": 72,
   "metadata": {
    "collapsed": false
   },
   "outputs": [
    {
     "data": {
      "text/html": [
       "<div>\n",
       "<table border=\"1\" class=\"dataframe\">\n",
       "  <thead>\n",
       "    <tr style=\"text-align: right;\">\n",
       "      <th></th>\n",
       "      <th>id</th>\n",
       "      <th>city_name</th>\n",
       "      <th>signup_os</th>\n",
       "      <th>signup_channel</th>\n",
       "      <th>signup_date</th>\n",
       "      <th>bgc_date</th>\n",
       "      <th>vehicle_added_date</th>\n",
       "      <th>vehicle_make</th>\n",
       "      <th>vehicle_model</th>\n",
       "      <th>vehicle_year</th>\n",
       "      <th>first_completed_date</th>\n",
       "    </tr>\n",
       "  </thead>\n",
       "  <tbody>\n",
       "    <tr>\n",
       "      <th>0</th>\n",
       "      <td>1</td>\n",
       "      <td>Strark</td>\n",
       "      <td>ios web</td>\n",
       "      <td>Paid</td>\n",
       "      <td>2016-01-02</td>\n",
       "      <td>NaT</td>\n",
       "      <td>NaT</td>\n",
       "      <td>NaN</td>\n",
       "      <td>NaN</td>\n",
       "      <td>NaN</td>\n",
       "      <td>NaT</td>\n",
       "    </tr>\n",
       "    <tr>\n",
       "      <th>1</th>\n",
       "      <td>2</td>\n",
       "      <td>Strark</td>\n",
       "      <td>windows</td>\n",
       "      <td>Paid</td>\n",
       "      <td>2016-01-21</td>\n",
       "      <td>NaT</td>\n",
       "      <td>NaT</td>\n",
       "      <td>NaN</td>\n",
       "      <td>NaN</td>\n",
       "      <td>NaN</td>\n",
       "      <td>NaT</td>\n",
       "    </tr>\n",
       "    <tr>\n",
       "      <th>2</th>\n",
       "      <td>3</td>\n",
       "      <td>Wrouver</td>\n",
       "      <td>windows</td>\n",
       "      <td>Organic</td>\n",
       "      <td>2016-01-11</td>\n",
       "      <td>2016-01-11</td>\n",
       "      <td>NaT</td>\n",
       "      <td>NaN</td>\n",
       "      <td>NaN</td>\n",
       "      <td>NaN</td>\n",
       "      <td>NaT</td>\n",
       "    </tr>\n",
       "    <tr>\n",
       "      <th>3</th>\n",
       "      <td>4</td>\n",
       "      <td>Berton</td>\n",
       "      <td>android web</td>\n",
       "      <td>Referral</td>\n",
       "      <td>2016-01-29</td>\n",
       "      <td>2016-02-03</td>\n",
       "      <td>2016-02-03</td>\n",
       "      <td>Toyota</td>\n",
       "      <td>Corolla</td>\n",
       "      <td>2016</td>\n",
       "      <td>2016-02-03</td>\n",
       "    </tr>\n",
       "    <tr>\n",
       "      <th>4</th>\n",
       "      <td>5</td>\n",
       "      <td>Strark</td>\n",
       "      <td>android web</td>\n",
       "      <td>Referral</td>\n",
       "      <td>2016-01-10</td>\n",
       "      <td>2016-01-25</td>\n",
       "      <td>2016-01-26</td>\n",
       "      <td>Hyundai</td>\n",
       "      <td>Sonata</td>\n",
       "      <td>2016</td>\n",
       "      <td>NaT</td>\n",
       "    </tr>\n",
       "  </tbody>\n",
       "</table>\n",
       "</div>"
      ],
      "text/plain": [
       "   id city_name    signup_os signup_channel signup_date   bgc_date  \\\n",
       "0   1    Strark      ios web           Paid  2016-01-02        NaT   \n",
       "1   2    Strark      windows           Paid  2016-01-21        NaT   \n",
       "2   3   Wrouver      windows        Organic  2016-01-11 2016-01-11   \n",
       "3   4    Berton  android web       Referral  2016-01-29 2016-02-03   \n",
       "4   5    Strark  android web       Referral  2016-01-10 2016-01-25   \n",
       "\n",
       "  vehicle_added_date vehicle_make vehicle_model  vehicle_year  \\\n",
       "0                NaT          NaN           NaN           NaN   \n",
       "1                NaT          NaN           NaN           NaN   \n",
       "2                NaT          NaN           NaN           NaN   \n",
       "3         2016-02-03       Toyota       Corolla          2016   \n",
       "4         2016-01-26      Hyundai        Sonata          2016   \n",
       "\n",
       "  first_completed_date  \n",
       "0                  NaT  \n",
       "1                  NaT  \n",
       "2                  NaT  \n",
       "3           2016-02-03  \n",
       "4                  NaT  "
      ]
     },
     "execution_count": 72,
     "metadata": {},
     "output_type": "execute_result"
    }
   ],
   "source": [
    "df = pd.read_csv('C:\\\\Users\\\\krish\\\\Downloads\\\\uber\\\\sTEF.csv', parse_dates=[4,5,6,10])\n",
    "df.head()"
   ]
  },
  {
   "cell_type": "code",
   "execution_count": 73,
   "metadata": {
    "collapsed": false
   },
   "outputs": [
    {
     "data": {
      "text/plain": [
       "54681"
      ]
     },
     "execution_count": 73,
     "metadata": {},
     "output_type": "execute_result"
    }
   ],
   "source": [
    "#total count\n",
    "len(df['id'].unique())"
   ]
  },
  {
   "cell_type": "code",
   "execution_count": 74,
   "metadata": {
    "collapsed": false
   },
   "outputs": [
    {
     "name": "stdout",
     "output_type": "stream",
     "text": [
      "id 0\n",
      "city_name 0\n",
      "signup_os 6857\n",
      "signup_channel 0\n",
      "signup_date 0\n",
      "bgc_date 21785\n",
      "vehicle_added_date 41547\n",
      "vehicle_make 41458\n",
      "vehicle_model 41458\n",
      "vehicle_year 41458\n",
      "first_completed_date 48544\n"
     ]
    }
   ],
   "source": [
    "# # nbr of null values in each column\n",
    "for col in df:\n",
    "    print (col, pd.isnull(df[col]).sum())"
   ]
  },
  {
   "cell_type": "code",
   "execution_count": 75,
   "metadata": {
    "collapsed": false
   },
   "outputs": [
    {
     "data": {
      "text/html": [
       "<div>\n",
       "<table border=\"1\" class=\"dataframe\">\n",
       "  <thead>\n",
       "    <tr style=\"text-align: right;\">\n",
       "      <th></th>\n",
       "      <th>id</th>\n",
       "      <th>city_name</th>\n",
       "      <th>signup_os</th>\n",
       "      <th>signup_channel</th>\n",
       "      <th>signup_date</th>\n",
       "      <th>bgc_date</th>\n",
       "      <th>vehicle_added_date</th>\n",
       "      <th>vehicle_make</th>\n",
       "      <th>vehicle_model</th>\n",
       "      <th>vehicle_year</th>\n",
       "      <th>first_completed_date</th>\n",
       "      <th>activated_y</th>\n",
       "    </tr>\n",
       "  </thead>\n",
       "  <tbody>\n",
       "    <tr>\n",
       "      <th>0</th>\n",
       "      <td>1</td>\n",
       "      <td>Strark</td>\n",
       "      <td>ios web</td>\n",
       "      <td>Paid</td>\n",
       "      <td>2016-01-02</td>\n",
       "      <td>NaT</td>\n",
       "      <td>NaT</td>\n",
       "      <td>NaN</td>\n",
       "      <td>NaN</td>\n",
       "      <td>NaN</td>\n",
       "      <td>NaT</td>\n",
       "      <td>0</td>\n",
       "    </tr>\n",
       "    <tr>\n",
       "      <th>1</th>\n",
       "      <td>2</td>\n",
       "      <td>Strark</td>\n",
       "      <td>windows</td>\n",
       "      <td>Paid</td>\n",
       "      <td>2016-01-21</td>\n",
       "      <td>NaT</td>\n",
       "      <td>NaT</td>\n",
       "      <td>NaN</td>\n",
       "      <td>NaN</td>\n",
       "      <td>NaN</td>\n",
       "      <td>NaT</td>\n",
       "      <td>0</td>\n",
       "    </tr>\n",
       "    <tr>\n",
       "      <th>2</th>\n",
       "      <td>3</td>\n",
       "      <td>Wrouver</td>\n",
       "      <td>windows</td>\n",
       "      <td>Organic</td>\n",
       "      <td>2016-01-11</td>\n",
       "      <td>2016-01-11</td>\n",
       "      <td>NaT</td>\n",
       "      <td>NaN</td>\n",
       "      <td>NaN</td>\n",
       "      <td>NaN</td>\n",
       "      <td>NaT</td>\n",
       "      <td>0</td>\n",
       "    </tr>\n",
       "    <tr>\n",
       "      <th>3</th>\n",
       "      <td>4</td>\n",
       "      <td>Berton</td>\n",
       "      <td>android web</td>\n",
       "      <td>Referral</td>\n",
       "      <td>2016-01-29</td>\n",
       "      <td>2016-02-03</td>\n",
       "      <td>2016-02-03</td>\n",
       "      <td>Toyota</td>\n",
       "      <td>Corolla</td>\n",
       "      <td>2016</td>\n",
       "      <td>2016-02-03</td>\n",
       "      <td>1</td>\n",
       "    </tr>\n",
       "    <tr>\n",
       "      <th>4</th>\n",
       "      <td>5</td>\n",
       "      <td>Strark</td>\n",
       "      <td>android web</td>\n",
       "      <td>Referral</td>\n",
       "      <td>2016-01-10</td>\n",
       "      <td>2016-01-25</td>\n",
       "      <td>2016-01-26</td>\n",
       "      <td>Hyundai</td>\n",
       "      <td>Sonata</td>\n",
       "      <td>2016</td>\n",
       "      <td>NaT</td>\n",
       "      <td>0</td>\n",
       "    </tr>\n",
       "  </tbody>\n",
       "</table>\n",
       "</div>"
      ],
      "text/plain": [
       "   id city_name    signup_os signup_channel signup_date   bgc_date  \\\n",
       "0   1    Strark      ios web           Paid  2016-01-02        NaT   \n",
       "1   2    Strark      windows           Paid  2016-01-21        NaT   \n",
       "2   3   Wrouver      windows        Organic  2016-01-11 2016-01-11   \n",
       "3   4    Berton  android web       Referral  2016-01-29 2016-02-03   \n",
       "4   5    Strark  android web       Referral  2016-01-10 2016-01-25   \n",
       "\n",
       "  vehicle_added_date vehicle_make vehicle_model  vehicle_year  \\\n",
       "0                NaT          NaN           NaN           NaN   \n",
       "1                NaT          NaN           NaN           NaN   \n",
       "2                NaT          NaN           NaN           NaN   \n",
       "3         2016-02-03       Toyota       Corolla          2016   \n",
       "4         2016-01-26      Hyundai        Sonata          2016   \n",
       "\n",
       "  first_completed_date  activated_y  \n",
       "0                  NaT            0  \n",
       "1                  NaT            0  \n",
       "2                  NaT            0  \n",
       "3           2016-02-03            1  \n",
       "4                  NaT            0  "
      ]
     },
     "execution_count": 75,
     "metadata": {},
     "output_type": "execute_result"
    }
   ],
   "source": [
    "df['activated_y'] = np.where(df['first_completed_date'].isnull(), 0.0, 1.0)\n",
    "df.head()"
   ]
  },
  {
   "cell_type": "code",
   "execution_count": 76,
   "metadata": {
    "collapsed": false,
    "scrolled": true
   },
   "outputs": [
    {
     "data": {
      "text/plain": [
       "0"
      ]
     },
     "execution_count": 76,
     "metadata": {},
     "output_type": "execute_result"
    }
   ],
   "source": [
    "len(df[(df['bgc_date'].isnull()) & (df['vehicle_added_date'].notnull()) & (df['activated_y'] == 1.0) ])"
   ]
  },
  {
   "cell_type": "code",
   "execution_count": 77,
   "metadata": {
    "collapsed": false
   },
   "outputs": [
    {
     "data": {
      "text/plain": [
       "255"
      ]
     },
     "execution_count": 77,
     "metadata": {},
     "output_type": "execute_result"
    }
   ],
   "source": [
    "len(df[(df['bgc_date'].isnull()) & (df['vehicle_added_date'].notnull()) & (df['activated_y'] == 0.0) ])"
   ]
  },
  {
   "cell_type": "code",
   "execution_count": 78,
   "metadata": {
    "collapsed": false
   },
   "outputs": [
    {
     "data": {
      "text/plain": [
       "255"
      ]
     },
     "execution_count": 78,
     "metadata": {},
     "output_type": "execute_result"
    }
   ],
   "source": [
    "len(df[(df['bgc_date'].isnull()) & (df['vehicle_added_date'].notnull())])\n",
    "\n",
    "# adding vehicle without bgc does not makes business sense. So these records can be removed. "
   ]
  },
  {
   "cell_type": "code",
   "execution_count": 79,
   "metadata": {
    "collapsed": false
   },
   "outputs": [],
   "source": [
    "df = df.drop(df[((df['bgc_date'].isnull()) & (df['vehicle_added_date'].notnull()))].index)"
   ]
  },
  {
   "cell_type": "code",
   "execution_count": 80,
   "metadata": {
    "collapsed": false
   },
   "outputs": [
    {
     "data": {
      "text/plain": [
       "54426"
      ]
     },
     "execution_count": 80,
     "metadata": {},
     "output_type": "execute_result"
    }
   ],
   "source": [
    "#total count\n",
    "len(df['id'].unique())"
   ]
  },
  {
   "cell_type": "code",
   "execution_count": 81,
   "metadata": {
    "collapsed": false
   },
   "outputs": [
    {
     "name": "stdout",
     "output_type": "stream",
     "text": [
      "id 0\n",
      "city_name 0\n",
      "signup_os 6832\n",
      "signup_channel 0\n",
      "signup_date 0\n",
      "bgc_date 21530\n",
      "vehicle_added_date 41547\n",
      "vehicle_make 41458\n",
      "vehicle_model 41458\n",
      "vehicle_year 41458\n",
      "first_completed_date 48289\n",
      "activated_y 0\n"
     ]
    }
   ],
   "source": [
    "# # nbr of null values in each column\n",
    "for col in df:\n",
    "    print (col, pd.isnull(df[col]).sum())"
   ]
  },
  {
   "cell_type": "code",
   "execution_count": null,
   "metadata": {
    "collapsed": true
   },
   "outputs": [],
   "source": []
  },
  {
   "cell_type": "markdown",
   "metadata": {},
   "source": [
    "# Activation Percentage"
   ]
  },
  {
   "cell_type": "code",
   "execution_count": 82,
   "metadata": {
    "collapsed": false
   },
   "outputs": [
    {
     "name": "stdout",
     "output_type": "stream",
     "text": [
      "Tot activated :6137.0\n",
      "Tot signup :54426\n",
      "Percentage activated :11.2758608018\n"
     ]
    }
   ],
   "source": [
    "print (\"Tot activated :\" + str(df.activated_y.sum()))\n",
    "print (\"Tot signup :\" + str(df['activated_y'].count()))\n",
    "print (\"Percentage activated :\"  + str(df.activated_y.sum() *100/df['activated_y'].count()))"
   ]
  },
  {
   "cell_type": "markdown",
   "metadata": {},
   "source": [
    "# CITY NAME"
   ]
  },
  {
   "cell_type": "code",
   "execution_count": 83,
   "metadata": {
    "collapsed": false
   },
   "outputs": [
    {
     "data": {
      "text/plain": [
       "array(['Strark', 'Wrouver', 'Berton'], dtype=object)"
      ]
     },
     "execution_count": 83,
     "metadata": {},
     "output_type": "execute_result"
    }
   ],
   "source": [
    "df['city_name'].unique()"
   ]
  },
  {
   "cell_type": "code",
   "execution_count": 84,
   "metadata": {
    "collapsed": false
   },
   "outputs": [
    {
     "data": {
      "text/html": [
       "<div>\n",
       "<table border=\"1\" class=\"dataframe\">\n",
       "  <thead>\n",
       "    <tr style=\"text-align: right;\">\n",
       "      <th></th>\n",
       "      <th>cnt</th>\n",
       "      <th>perc_dist</th>\n",
       "    </tr>\n",
       "    <tr>\n",
       "      <th>city_name</th>\n",
       "      <th></th>\n",
       "      <th></th>\n",
       "    </tr>\n",
       "  </thead>\n",
       "  <tbody>\n",
       "    <tr>\n",
       "      <th>Berton</th>\n",
       "      <td>20029</td>\n",
       "      <td>36.800426</td>\n",
       "    </tr>\n",
       "    <tr>\n",
       "      <th>Strark</th>\n",
       "      <td>29422</td>\n",
       "      <td>54.058722</td>\n",
       "    </tr>\n",
       "    <tr>\n",
       "      <th>Wrouver</th>\n",
       "      <td>4975</td>\n",
       "      <td>9.140852</td>\n",
       "    </tr>\n",
       "  </tbody>\n",
       "</table>\n",
       "</div>"
      ],
      "text/plain": [
       "             cnt  perc_dist\n",
       "city_name                  \n",
       "Berton     20029  36.800426\n",
       "Strark     29422  54.058722\n",
       "Wrouver     4975   9.140852"
      ]
     },
     "execution_count": 84,
     "metadata": {},
     "output_type": "execute_result"
    }
   ],
   "source": [
    "df_city_name_dist = df.groupby(\"city_name\").agg({\"id\": pd.Series.nunique})\n",
    "df_city_name_dist.rename(columns={\"id\": \"cnt\"}, inplace=True)\n",
    "df_city_name_dist[\"perc_dist\"] = df_city_name_dist[\"cnt\"] *100/df_city_name_dist[\"cnt\"].sum()\n",
    "df_city_name_dist"
   ]
  },
  {
   "cell_type": "code",
   "execution_count": 85,
   "metadata": {
    "collapsed": false
   },
   "outputs": [
    {
     "data": {
      "image/png": "[encoded data removed]",
      "text/plain": [
       "<matplotlib.figure.Figure at 0x22eb4bfdf98>"
      ]
     },
     "metadata": {},
     "output_type": "display_data"
    }
   ],
   "source": [
    "sns.countplot(x=\"city_name\", data=df);"
   ]
  },
  {
   "cell_type": "code",
   "execution_count": 86,
   "metadata": {
    "collapsed": false
   },
   "outputs": [
    {
     "data": {
      "text/html": [
       "<div>\n",
       "<table border=\"1\" class=\"dataframe\">\n",
       "  <thead>\n",
       "    <tr style=\"text-align: right;\">\n",
       "      <th></th>\n",
       "      <th></th>\n",
       "      <th>cnt</th>\n",
       "    </tr>\n",
       "    <tr>\n",
       "      <th>city_name</th>\n",
       "      <th>activated_y</th>\n",
       "      <th></th>\n",
       "    </tr>\n",
       "  </thead>\n",
       "  <tbody>\n",
       "    <tr>\n",
       "      <th rowspan=\"2\" valign=\"top\">Berton</th>\n",
       "      <th>0</th>\n",
       "      <td>17592</td>\n",
       "    </tr>\n",
       "    <tr>\n",
       "      <th>1</th>\n",
       "      <td>2437</td>\n",
       "    </tr>\n",
       "    <tr>\n",
       "      <th rowspan=\"2\" valign=\"top\">Strark</th>\n",
       "      <th>0</th>\n",
       "      <td>26183</td>\n",
       "    </tr>\n",
       "    <tr>\n",
       "      <th>1</th>\n",
       "      <td>3239</td>\n",
       "    </tr>\n",
       "    <tr>\n",
       "      <th>Wrouver</th>\n",
       "      <th>0</th>\n",
       "      <td>4514</td>\n",
       "    </tr>\n",
       "  </tbody>\n",
       "</table>\n",
       "</div>"
      ],
      "text/plain": [
       "                         cnt\n",
       "city_name activated_y       \n",
       "Berton    0            17592\n",
       "          1             2437\n",
       "Strark    0            26183\n",
       "          1             3239\n",
       "Wrouver   0             4514"
      ]
     },
     "execution_count": 86,
     "metadata": {},
     "output_type": "execute_result"
    }
   ],
   "source": [
    "df_city_activated = df.groupby([\"city_name\",\"activated_y\"]).agg({\"id\": pd.Series.nunique})\n",
    "df_city_activated.rename(columns={\"id\": \"cnt\"}, inplace=True)\n",
    "df_city_activated.head()"
   ]
  },
  {
   "cell_type": "code",
   "execution_count": 87,
   "metadata": {
    "collapsed": false
   },
   "outputs": [
    {
     "data": {
      "text/html": [
       "<div>\n",
       "<table border=\"1\" class=\"dataframe\">\n",
       "  <thead>\n",
       "    <tr style=\"text-align: right;\">\n",
       "      <th></th>\n",
       "      <th></th>\n",
       "      <th>cnt</th>\n",
       "    </tr>\n",
       "    <tr>\n",
       "      <th>city_name</th>\n",
       "      <th>activated_y</th>\n",
       "      <th></th>\n",
       "    </tr>\n",
       "  </thead>\n",
       "  <tbody>\n",
       "    <tr>\n",
       "      <th rowspan=\"2\" valign=\"top\">Berton</th>\n",
       "      <th>0</th>\n",
       "      <td>87.832643</td>\n",
       "    </tr>\n",
       "    <tr>\n",
       "      <th>1</th>\n",
       "      <td>12.167357</td>\n",
       "    </tr>\n",
       "    <tr>\n",
       "      <th rowspan=\"2\" valign=\"top\">Strark</th>\n",
       "      <th>0</th>\n",
       "      <td>88.991231</td>\n",
       "    </tr>\n",
       "    <tr>\n",
       "      <th>1</th>\n",
       "      <td>11.008769</td>\n",
       "    </tr>\n",
       "    <tr>\n",
       "      <th rowspan=\"2\" valign=\"top\">Wrouver</th>\n",
       "      <th>0</th>\n",
       "      <td>90.733668</td>\n",
       "    </tr>\n",
       "    <tr>\n",
       "      <th>1</th>\n",
       "      <td>9.266332</td>\n",
       "    </tr>\n",
       "  </tbody>\n",
       "</table>\n",
       "</div>"
      ],
      "text/plain": [
       "                             cnt\n",
       "city_name activated_y           \n",
       "Berton    0            87.832643\n",
       "          1            12.167357\n",
       "Strark    0            88.991231\n",
       "          1            11.008769\n",
       "Wrouver   0            90.733668\n",
       "          1             9.266332"
      ]
     },
     "execution_count": 87,
     "metadata": {},
     "output_type": "execute_result"
    }
   ],
   "source": [
    "df_city = df.groupby([\"city_name\"]).agg({\"activated_y\": \"count\"})\n",
    "df_city.rename(columns={\"activated_y\": \"cnt\"}, inplace=True)\n",
    "df_city.head()\n",
    "df_city_activated.div(df_city, level='city_name') * 100"
   ]
  },
  {
   "cell_type": "code",
   "execution_count": 88,
   "metadata": {
    "collapsed": false
   },
   "outputs": [
    {
     "data": {
      "image/png": "[encoded data removed]",
      "text/plain": [
       "<matplotlib.figure.Figure at 0x22eb4ca7ac8>"
      ]
     },
     "metadata": {},
     "output_type": "display_data"
    }
   ],
   "source": [
    "sns.countplot(x=\"city_name\", hue=\"activated_y\", data=df);"
   ]
  },
  {
   "cell_type": "markdown",
   "metadata": {},
   "source": [
    "# SIGNUP CHANNEL"
   ]
  },
  {
   "cell_type": "code",
   "execution_count": 89,
   "metadata": {
    "collapsed": false
   },
   "outputs": [
    {
     "data": {
      "text/plain": [
       "array(['Paid', 'Organic', 'Referral'], dtype=object)"
      ]
     },
     "execution_count": 89,
     "metadata": {},
     "output_type": "execute_result"
    }
   ],
   "source": [
    "df['signup_channel'].unique()"
   ]
  },
  {
   "cell_type": "code",
   "execution_count": 90,
   "metadata": {
    "collapsed": false,
    "scrolled": true
   },
   "outputs": [
    {
     "data": {
      "text/html": [
       "<div>\n",
       "<table border=\"1\" class=\"dataframe\">\n",
       "  <thead>\n",
       "    <tr style=\"text-align: right;\">\n",
       "      <th></th>\n",
       "      <th>cnt</th>\n",
       "      <th>perc_dist</th>\n",
       "    </tr>\n",
       "    <tr>\n",
       "      <th>signup_channel</th>\n",
       "      <th></th>\n",
       "      <th></th>\n",
       "    </tr>\n",
       "  </thead>\n",
       "  <tbody>\n",
       "    <tr>\n",
       "      <th>Organic</th>\n",
       "      <td>13354</td>\n",
       "      <td>24.536067</td>\n",
       "    </tr>\n",
       "    <tr>\n",
       "      <th>Paid</th>\n",
       "      <td>23852</td>\n",
       "      <td>43.824643</td>\n",
       "    </tr>\n",
       "    <tr>\n",
       "      <th>Referral</th>\n",
       "      <td>17220</td>\n",
       "      <td>31.639290</td>\n",
       "    </tr>\n",
       "  </tbody>\n",
       "</table>\n",
       "</div>"
      ],
      "text/plain": [
       "                  cnt  perc_dist\n",
       "signup_channel                  \n",
       "Organic         13354  24.536067\n",
       "Paid            23852  43.824643\n",
       "Referral        17220  31.639290"
      ]
     },
     "execution_count": 90,
     "metadata": {},
     "output_type": "execute_result"
    }
   ],
   "source": [
    "df_signup_channel_dist = df.groupby(\"signup_channel\").agg({\"id\": pd.Series.nunique})\n",
    "df_signup_channel_dist.rename(columns={\"id\": \"cnt\"}, inplace=True)\n",
    "df_signup_channel_dist[\"perc_dist\"] = df_signup_channel_dist[\"cnt\"] *100/df_signup_channel_dist[\"cnt\"].sum()\n",
    "df_signup_channel_dist\n"
   ]
  },
  {
   "cell_type": "code",
   "execution_count": 91,
   "metadata": {
    "collapsed": false
   },
   "outputs": [
    {
     "data": {
      "image/png": "[encoded data removed]",
      "text/plain": [
       "<matplotlib.figure.Figure at 0x22eb23a43c8>"
      ]
     },
     "metadata": {},
     "output_type": "display_data"
    }
   ],
   "source": [
    "sns.countplot(x=\"signup_channel\", data=df);"
   ]
  },
  {
   "cell_type": "code",
   "execution_count": 92,
   "metadata": {
    "collapsed": false
   },
   "outputs": [
    {
     "data": {
      "text/html": [
       "<div>\n",
       "<table border=\"1\" class=\"dataframe\">\n",
       "  <thead>\n",
       "    <tr style=\"text-align: right;\">\n",
       "      <th></th>\n",
       "      <th></th>\n",
       "      <th>cnt</th>\n",
       "    </tr>\n",
       "    <tr>\n",
       "      <th>signup_channel</th>\n",
       "      <th>activated_y</th>\n",
       "      <th></th>\n",
       "    </tr>\n",
       "  </thead>\n",
       "  <tbody>\n",
       "    <tr>\n",
       "      <th rowspan=\"2\" valign=\"top\">Organic</th>\n",
       "      <th>0</th>\n",
       "      <td>12144</td>\n",
       "    </tr>\n",
       "    <tr>\n",
       "      <th>1</th>\n",
       "      <td>1210</td>\n",
       "    </tr>\n",
       "    <tr>\n",
       "      <th rowspan=\"2\" valign=\"top\">Paid</th>\n",
       "      <th>0</th>\n",
       "      <td>22370</td>\n",
       "    </tr>\n",
       "    <tr>\n",
       "      <th>1</th>\n",
       "      <td>1482</td>\n",
       "    </tr>\n",
       "    <tr>\n",
       "      <th rowspan=\"2\" valign=\"top\">Referral</th>\n",
       "      <th>0</th>\n",
       "      <td>13775</td>\n",
       "    </tr>\n",
       "    <tr>\n",
       "      <th>1</th>\n",
       "      <td>3445</td>\n",
       "    </tr>\n",
       "  </tbody>\n",
       "</table>\n",
       "</div>"
      ],
      "text/plain": [
       "                              cnt\n",
       "signup_channel activated_y       \n",
       "Organic        0            12144\n",
       "               1             1210\n",
       "Paid           0            22370\n",
       "               1             1482\n",
       "Referral       0            13775\n",
       "               1             3445"
      ]
     },
     "execution_count": 92,
     "metadata": {},
     "output_type": "execute_result"
    }
   ],
   "source": [
    "df_signup_activated = df.groupby([\"signup_channel\",\"activated_y\"]).agg({\"id\": pd.Series.nunique})\n",
    "df_signup_activated.rename(columns={\"id\": \"cnt\"}, inplace=True)\n",
    "df_signup_activated"
   ]
  },
  {
   "cell_type": "code",
   "execution_count": 93,
   "metadata": {
    "collapsed": false
   },
   "outputs": [
    {
     "data": {
      "text/html": [
       "<div>\n",
       "<table border=\"1\" class=\"dataframe\">\n",
       "  <thead>\n",
       "    <tr style=\"text-align: right;\">\n",
       "      <th></th>\n",
       "      <th></th>\n",
       "      <th>cnt</th>\n",
       "    </tr>\n",
       "    <tr>\n",
       "      <th>signup_channel</th>\n",
       "      <th>activated_y</th>\n",
       "      <th></th>\n",
       "    </tr>\n",
       "  </thead>\n",
       "  <tbody>\n",
       "    <tr>\n",
       "      <th rowspan=\"2\" valign=\"top\">Organic</th>\n",
       "      <th>0</th>\n",
       "      <td>90.939044</td>\n",
       "    </tr>\n",
       "    <tr>\n",
       "      <th>1</th>\n",
       "      <td>9.060956</td>\n",
       "    </tr>\n",
       "    <tr>\n",
       "      <th rowspan=\"2\" valign=\"top\">Paid</th>\n",
       "      <th>0</th>\n",
       "      <td>93.786685</td>\n",
       "    </tr>\n",
       "    <tr>\n",
       "      <th>1</th>\n",
       "      <td>6.213315</td>\n",
       "    </tr>\n",
       "    <tr>\n",
       "      <th rowspan=\"2\" valign=\"top\">Referral</th>\n",
       "      <th>0</th>\n",
       "      <td>79.994193</td>\n",
       "    </tr>\n",
       "    <tr>\n",
       "      <th>1</th>\n",
       "      <td>20.005807</td>\n",
       "    </tr>\n",
       "  </tbody>\n",
       "</table>\n",
       "</div>"
      ],
      "text/plain": [
       "                                  cnt\n",
       "signup_channel activated_y           \n",
       "Organic        0            90.939044\n",
       "               1             9.060956\n",
       "Paid           0            93.786685\n",
       "               1             6.213315\n",
       "Referral       0            79.994193\n",
       "               1            20.005807"
      ]
     },
     "execution_count": 93,
     "metadata": {},
     "output_type": "execute_result"
    }
   ],
   "source": [
    "df_signup = df.groupby([\"signup_channel\"]).agg({\"activated_y\": \"count\"})\n",
    "df_signup.rename(columns={\"activated_y\": \"pct\"}, inplace=True)\n",
    "df_signup.head()\n",
    "df_signup_activated.div(df_signup, level='signup_channel') * 100\n"
   ]
  },
  {
   "cell_type": "markdown",
   "metadata": {},
   "source": [
    "# Findings \n",
    "    signup_channel: referral has better activation rate"
   ]
  },
  {
   "cell_type": "code",
   "execution_count": 94,
   "metadata": {
    "collapsed": false
   },
   "outputs": [
    {
     "data": {
      "image/png": "[encoded data removed]",
      "text/plain": [
       "<matplotlib.figure.Figure at 0x22eb378d978>"
      ]
     },
     "metadata": {},
     "output_type": "display_data"
    }
   ],
   "source": [
    "sns.countplot(x=\"signup_channel\", hue=\"activated_y\", data=df);"
   ]
  },
  {
   "cell_type": "markdown",
   "metadata": {},
   "source": [
    "# Dates"
   ]
  },
  {
   "cell_type": "code",
   "execution_count": 95,
   "metadata": {
    "collapsed": false
   },
   "outputs": [
    {
     "name": "stdout",
     "output_type": "stream",
     "text": [
      "2016-01-01 00:00:00\n",
      "2016-01-30 00:00:00\n"
     ]
    }
   ],
   "source": [
    "print (df.signup_date.min())\n",
    "print (df.signup_date.max())\n",
    "\n",
    "# df['signup_date'].unique()"
   ]
  },
  {
   "cell_type": "code",
   "execution_count": 96,
   "metadata": {
    "collapsed": false
   },
   "outputs": [
    {
     "name": "stdout",
     "output_type": "stream",
     "text": [
      "2016-01-04 00:00:00\n",
      "2016-02-29 00:00:00\n"
     ]
    }
   ],
   "source": [
    "print (df.first_completed_date.dropna().min())\n",
    "print (df.first_completed_date.dropna().max())"
   ]
  },
  {
   "cell_type": "markdown",
   "metadata": {},
   "source": [
    "# Vechile Year"
   ]
  },
  {
   "cell_type": "code",
   "execution_count": 97,
   "metadata": {
    "collapsed": false
   },
   "outputs": [
    {
     "name": "stdout",
     "output_type": "stream",
     "text": [
      "0.0\n",
      "2017.0\n",
      "[   nan  2016.  2006.  2014.  2015.  2010.  2012.  2011.  2007.  2013.\n",
      "  2008.  2005.  2001.  2009.  2004.  2002.  2003.  2017.  2000.  1999.\n",
      "  1996.  1997.  1998.  1995.     0.]\n"
     ]
    }
   ],
   "source": [
    "print (df.vehicle_year.dropna().min())\n",
    "print (df.vehicle_year.dropna().max())\n",
    "print (df['vehicle_year'].unique())"
   ]
  },
  {
   "cell_type": "code",
   "execution_count": 98,
   "metadata": {
    "collapsed": false
   },
   "outputs": [
    {
     "data": {
      "text/plain": [
       "<matplotlib.axes._subplots.AxesSubplot at 0x22eb1ef1518>"
      ]
     },
     "execution_count": 98,
     "metadata": {},
     "output_type": "execute_result"
    },
    {
     "data": {
      "image/png": "[encoded data removed]",
      "text/plain": [
       "<matplotlib.figure.Figure at 0x22eb28b5320>"
      ]
     },
     "metadata": {},
     "output_type": "display_data"
    }
   ],
   "source": [
    "df_rmv_vy_0 = df[df[\"vehicle_year\"] > 0]\n",
    "plt.figure(figsize=(18,8))\n",
    "sns.countplot(x=\"vehicle_year\", hue=\"activated_y\", data=df_rmv_vy_0)"
   ]
  },
  {
   "cell_type": "markdown",
   "metadata": {},
   "source": [
    "# Findings:\n",
    "    As the vehicle year is relatively new the signup & ativation rates are increasing (exception 2008 - 2010 - recession can be a cause )"
   ]
  },
  {
   "cell_type": "code",
   "execution_count": 99,
   "metadata": {
    "collapsed": false
   },
   "outputs": [
    {
     "data": {
      "text/html": [
       "<div>\n",
       "<table border=\"1\" class=\"dataframe\">\n",
       "  <thead>\n",
       "    <tr style=\"text-align: right;\">\n",
       "      <th></th>\n",
       "      <th></th>\n",
       "      <th>cnt</th>\n",
       "    </tr>\n",
       "    <tr>\n",
       "      <th>vehicle_year</th>\n",
       "      <th>activated_y</th>\n",
       "      <th></th>\n",
       "    </tr>\n",
       "  </thead>\n",
       "  <tbody>\n",
       "    <tr>\n",
       "      <th>1995</th>\n",
       "      <th>0</th>\n",
       "      <td>1</td>\n",
       "    </tr>\n",
       "    <tr>\n",
       "      <th>1996</th>\n",
       "      <th>0</th>\n",
       "      <td>4</td>\n",
       "    </tr>\n",
       "    <tr>\n",
       "      <th>1997</th>\n",
       "      <th>0</th>\n",
       "      <td>6</td>\n",
       "    </tr>\n",
       "    <tr>\n",
       "      <th rowspan=\"2\" valign=\"top\">1998</th>\n",
       "      <th>0</th>\n",
       "      <td>8</td>\n",
       "    </tr>\n",
       "    <tr>\n",
       "      <th>1</th>\n",
       "      <td>1</td>\n",
       "    </tr>\n",
       "  </tbody>\n",
       "</table>\n",
       "</div>"
      ],
      "text/plain": [
       "                          cnt\n",
       "vehicle_year activated_y     \n",
       "1995         0              1\n",
       "1996         0              4\n",
       "1997         0              6\n",
       "1998         0              8\n",
       "             1              1"
      ]
     },
     "execution_count": 99,
     "metadata": {},
     "output_type": "execute_result"
    }
   ],
   "source": [
    "df_vehicle_year_activated = df_rmv_vy_0.groupby([\"vehicle_year\",\"activated_y\"]).agg({\"id\": pd.Series.nunique})\n",
    "df_vehicle_year_activated.rename(columns={\"id\": \"cnt\"}, inplace=True)\n",
    "df_vehicle_year_activated.head()"
   ]
  },
  {
   "cell_type": "code",
   "execution_count": 100,
   "metadata": {
    "collapsed": false
   },
   "outputs": [
    {
     "data": {
      "text/html": [
       "<div>\n",
       "<table border=\"1\" class=\"dataframe\">\n",
       "  <thead>\n",
       "    <tr style=\"text-align: right;\">\n",
       "      <th></th>\n",
       "      <th>vehicle_year</th>\n",
       "      <th>activated_y</th>\n",
       "      <th>perc</th>\n",
       "    </tr>\n",
       "  </thead>\n",
       "  <tbody>\n",
       "    <tr>\n",
       "      <th>0</th>\n",
       "      <td>1995</td>\n",
       "      <td>0</td>\n",
       "      <td>100.000000</td>\n",
       "    </tr>\n",
       "    <tr>\n",
       "      <th>1</th>\n",
       "      <td>1996</td>\n",
       "      <td>0</td>\n",
       "      <td>100.000000</td>\n",
       "    </tr>\n",
       "    <tr>\n",
       "      <th>2</th>\n",
       "      <td>1997</td>\n",
       "      <td>0</td>\n",
       "      <td>100.000000</td>\n",
       "    </tr>\n",
       "    <tr>\n",
       "      <th>3</th>\n",
       "      <td>1998</td>\n",
       "      <td>0</td>\n",
       "      <td>88.888889</td>\n",
       "    </tr>\n",
       "    <tr>\n",
       "      <th>4</th>\n",
       "      <td>1998</td>\n",
       "      <td>1</td>\n",
       "      <td>11.111111</td>\n",
       "    </tr>\n",
       "  </tbody>\n",
       "</table>\n",
       "</div>"
      ],
      "text/plain": [
       "   vehicle_year  activated_y        perc\n",
       "0          1995            0  100.000000\n",
       "1          1996            0  100.000000\n",
       "2          1997            0  100.000000\n",
       "3          1998            0   88.888889\n",
       "4          1998            1   11.111111"
      ]
     },
     "execution_count": 100,
     "metadata": {},
     "output_type": "execute_result"
    }
   ],
   "source": [
    "df_vehicle_year = df_rmv_vy_0.groupby([\"vehicle_year\"]).agg({\"activated_y\": \"count\"})\n",
    "df_vehicle_year.rename(columns={\"activated_y\": \"cnt\"}, inplace=True)\n",
    "df_vehicle_year.head()\n",
    "df_vehicle_year_activated_per = df_vehicle_year_activated.div(df_vehicle_year, level=\"vehicle_year\") * 100 \n",
    "df_vehicle_year_activated_per.rename(columns={\"cnt\": \"perc\"}, inplace=True)\n",
    "df_vehicle_year_activated_per = df_vehicle_year_activated_per.reset_index()\n",
    "df_vehicle_year_activated_per.head()"
   ]
  },
  {
   "cell_type": "code",
   "execution_count": 101,
   "metadata": {
    "collapsed": false
   },
   "outputs": [
    {
     "data": {
      "text/plain": [
       "<matplotlib.axes._subplots.AxesSubplot at 0x22eb37e2e10>"
      ]
     },
     "execution_count": 101,
     "metadata": {},
     "output_type": "execute_result"
    },
    {
     "data": {
      "image/png": "[encoded data removed]",
      "text/plain": [
       "<matplotlib.figure.Figure at 0x22eb4c4e2e8>"
      ]
     },
     "metadata": {},
     "output_type": "display_data"
    }
   ],
   "source": [
    "plt.figure(figsize=(18,8))\n",
    "sns.pointplot(x=\"vehicle_year\", y=\"perc\", hue=\"activated_y\", data=df_vehicle_year_activated_per);"
   ]
  },
  {
   "cell_type": "markdown",
   "metadata": {},
   "source": [
    "# Findings:\n",
    "\n",
    "    As the vehicle year is relatively new the ativation rates are better"
   ]
  },
  {
   "cell_type": "markdown",
   "metadata": {
    "collapsed": true
   },
   "source": [
    "# Dummy Varibles"
   ]
  },
  {
   "cell_type": "code",
   "execution_count": 102,
   "metadata": {
    "collapsed": false
   },
   "outputs": [
    {
     "data": {
      "text/plain": [
       "Index(['id', 'city_name', 'signup_os', 'signup_channel', 'signup_date',\n",
       "       'bgc_date', 'vehicle_added_date', 'vehicle_make', 'vehicle_model',\n",
       "       'vehicle_year', 'first_completed_date', 'activated_y'],\n",
       "      dtype='object')"
      ]
     },
     "execution_count": 102,
     "metadata": {},
     "output_type": "execute_result"
    }
   ],
   "source": [
    "df.columns"
   ]
  },
  {
   "cell_type": "markdown",
   "metadata": {},
   "source": [
    "categoricals = ['city_name','signup_os','signup_channel','vehicle_make','vehicle_model','vehicle_year']\n",
    "target = 'activated_y'"
   ]
  },
  {
   "cell_type": "code",
   "execution_count": 103,
   "metadata": {
    "collapsed": false
   },
   "outputs": [],
   "source": [
    "#categoricals = ['city_name', 'signup_os', 'signup_channel', 'vehicle_make', 'vehicle_model','vehicle_year'] \n",
    "categoricals = ['city_name', 'signup_os', 'signup_channel', 'vehicle_make','vehicle_year'] \n",
    "target = ['activated_y']"
   ]
  },
  {
   "cell_type": "markdown",
   "metadata": {},
   "source": [
    "df['signup_os'].unique()"
   ]
  },
  {
   "cell_type": "code",
   "execution_count": 104,
   "metadata": {
    "collapsed": false
   },
   "outputs": [
    {
     "name": "stdout",
     "output_type": "stream",
     "text": [
      "city_name 3\n",
      "signup_os 6\n",
      "signup_channel 3\n",
      "vehicle_make 47\n",
      "vehicle_year 25\n"
     ]
    }
   ],
   "source": [
    "dummy_categoricals = []\n",
    "for categorical in categoricals:\n",
    "    print (categorical, len(df[categorical].unique()))\n",
    "    drop_var = sorted(df[categorical].dropna().unique())[-1]\n",
    "    temp_df = pd.get_dummies(df[categorical], prefix=categorical)\n",
    "    df = pd.concat([df, temp_df], axis=1)\n",
    "    temp_df.drop('_'.join([categorical, str(drop_var)]), axis=1, inplace=True)\n",
    "    dummy_categoricals += temp_df.columns.tolist()"
   ]
  },
  {
   "cell_type": "code",
   "execution_count": 105,
   "metadata": {
    "collapsed": false
   },
   "outputs": [
    {
     "data": {
      "text/plain": [
       "Index(['id', 'city_name', 'signup_os', 'signup_channel', 'signup_date',\n",
       "       'bgc_date', 'vehicle_added_date', 'vehicle_make', 'vehicle_model',\n",
       "       'vehicle_year', 'first_completed_date', 'activated_y',\n",
       "       'city_name_Berton', 'city_name_Strark', 'city_name_Wrouver',\n",
       "       'signup_os_android web', 'signup_os_ios web', 'signup_os_mac',\n",
       "       'signup_os_other', 'signup_os_windows', 'signup_channel_Organic',\n",
       "       'signup_channel_Paid', 'signup_channel_Referral', 'vehicle_make_Acura',\n",
       "       'vehicle_make_Audi', 'vehicle_make_Autobot', 'vehicle_make_BMW',\n",
       "       'vehicle_make_Bentley', 'vehicle_make_Bicycle', 'vehicle_make_Bike',\n",
       "       'vehicle_make_Buick', 'vehicle_make_Cadillac', 'vehicle_make_Chevrolet',\n",
       "       'vehicle_make_Chrysler', 'vehicle_make_Dodge', 'vehicle_make_Fiat',\n",
       "       'vehicle_make_Ford', 'vehicle_make_GMC', 'vehicle_make_Honda',\n",
       "       'vehicle_make_Hummer', 'vehicle_make_Hyundai', 'vehicle_make_Infiniti',\n",
       "       'vehicle_make_Isuzu', 'vehicle_make_Jaguar', 'vehicle_make_Jeep',\n",
       "       'vehicle_make_Kia', 'vehicle_make_Land Rover', 'vehicle_make_Lexus',\n",
       "       'vehicle_make_Lincoln', 'vehicle_make_Maserati', 'vehicle_make_Mazda',\n",
       "       'vehicle_make_Mercedes-Benz', 'vehicle_make_Mercury',\n",
       "       'vehicle_make_Mini', 'vehicle_make_Mitsubishi', 'vehicle_make_Nissan',\n",
       "       'vehicle_make_Oldsmobile', 'vehicle_make_Pontiac',\n",
       "       'vehicle_make_Porsche', 'vehicle_make_Saab', 'vehicle_make_Saturn',\n",
       "       'vehicle_make_Scion', 'vehicle_make_Subaru', 'vehicle_make_Suzuki',\n",
       "       'vehicle_make_Tesla', 'vehicle_make_Toyota', 'vehicle_make_Volkswagen',\n",
       "       'vehicle_make_Volvo', 'vehicle_make_Walker', 'vehicle_year_0.0',\n",
       "       'vehicle_year_1995.0', 'vehicle_year_1996.0', 'vehicle_year_1997.0',\n",
       "       'vehicle_year_1998.0', 'vehicle_year_1999.0', 'vehicle_year_2000.0',\n",
       "       'vehicle_year_2001.0', 'vehicle_year_2002.0', 'vehicle_year_2003.0',\n",
       "       'vehicle_year_2004.0', 'vehicle_year_2005.0', 'vehicle_year_2006.0',\n",
       "       'vehicle_year_2007.0', 'vehicle_year_2008.0', 'vehicle_year_2009.0',\n",
       "       'vehicle_year_2010.0', 'vehicle_year_2011.0', 'vehicle_year_2012.0',\n",
       "       'vehicle_year_2013.0', 'vehicle_year_2014.0', 'vehicle_year_2015.0',\n",
       "       'vehicle_year_2016.0', 'vehicle_year_2017.0'],\n",
       "      dtype='object')"
      ]
     },
     "execution_count": 105,
     "metadata": {},
     "output_type": "execute_result"
    }
   ],
   "source": [
    "len(dummy_categoricals)\n",
    "df.columns"
   ]
  },
  {
   "cell_type": "markdown",
   "metadata": {},
   "source": [
    "# Model Building"
   ]
  },
  {
   "cell_type": "code",
   "execution_count": 106,
   "metadata": {
    "collapsed": false
   },
   "outputs": [],
   "source": [
    "from sklearn.cross_validation import train_test_split\n",
    "from sklearn.ensemble import RandomForestClassifier\n",
    "from sklearn import ensemble\n",
    "train, test = train_test_split(df, test_size=0.4)"
   ]
  },
  {
   "cell_type": "markdown",
   "metadata": {},
   "source": [
    "# Random forest"
   ]
  },
  {
   "cell_type": "code",
   "execution_count": 107,
   "metadata": {
    "collapsed": false
   },
   "outputs": [
    {
     "data": {
      "text/plain": [
       "RandomForestClassifier(bootstrap=True, class_weight=None, criterion='gini',\n",
       "            max_depth=None, max_features='auto', max_leaf_nodes=None,\n",
       "            min_samples_leaf=1, min_samples_split=2,\n",
       "            min_weight_fraction_leaf=0.0, n_estimators=50, n_jobs=1,\n",
       "            oob_score=True, random_state=None, verbose=0, warm_start=False)"
      ]
     },
     "execution_count": 107,
     "metadata": {},
     "output_type": "execute_result"
    }
   ],
   "source": [
    "rf = RandomForestClassifier(n_estimators=50, oob_score=True)\n",
    "rf.fit(train[dummy_categoricals], train[target].values.ravel())"
   ]
  },
  {
   "cell_type": "code",
   "execution_count": 108,
   "metadata": {
    "collapsed": true
   },
   "outputs": [],
   "source": [
    "predicted = rf.predict(test[dummy_categoricals])"
   ]
  },
  {
   "cell_type": "code",
   "execution_count": 109,
   "metadata": {
    "collapsed": false
   },
   "outputs": [
    {
     "name": "stdout",
     "output_type": "stream",
     "text": [
      "             precision    recall  f1-score   support\n",
      "\n",
      "    class 0       0.93      0.94      0.93     19322\n",
      "    class 1       0.47      0.43      0.45      2449\n",
      "\n",
      "avg / total       0.88      0.88      0.88     21771\n",
      "\n"
     ]
    }
   ],
   "source": [
    "from sklearn.metrics import classification_report\n",
    "target_names = ['class 0', 'class 1']\n",
    "print(classification_report(test[target], predicted, target_names=target_names))"
   ]
  },
  {
   "cell_type": "code",
   "execution_count": 69,
   "metadata": {
    "collapsed": false
   },
   "outputs": [
    {
     "data": {
      "text/html": [
       "<div>\n",
       "<table border=\"1\" class=\"dataframe\">\n",
       "  <thead>\n",
       "    <tr style=\"text-align: right;\">\n",
       "      <th></th>\n",
       "      <th>importance</th>\n",
       "      <th>name</th>\n",
       "    </tr>\n",
       "  </thead>\n",
       "  <tbody>\n",
       "    <tr>\n",
       "      <th>0</th>\n",
       "      <td>0.064774</td>\n",
       "      <td>vehicle_make_Toyota</td>\n",
       "    </tr>\n",
       "    <tr>\n",
       "      <th>1</th>\n",
       "      <td>0.046587</td>\n",
       "      <td>vehicle_year_2015.0</td>\n",
       "    </tr>\n",
       "    <tr>\n",
       "      <th>2</th>\n",
       "      <td>0.036611</td>\n",
       "      <td>signup_channel_Paid</td>\n",
       "    </tr>\n",
       "    <tr>\n",
       "      <th>3</th>\n",
       "      <td>0.036540</td>\n",
       "      <td>signup_os_ios web</td>\n",
       "    </tr>\n",
       "    <tr>\n",
       "      <th>4</th>\n",
       "      <td>0.035506</td>\n",
       "      <td>signup_channel_Organic</td>\n",
       "    </tr>\n",
       "    <tr>\n",
       "      <th>5</th>\n",
       "      <td>0.033014</td>\n",
       "      <td>vehicle_year_2013.0</td>\n",
       "    </tr>\n",
       "    <tr>\n",
       "      <th>6</th>\n",
       "      <td>0.031982</td>\n",
       "      <td>vehicle_make_Honda</td>\n",
       "    </tr>\n",
       "    <tr>\n",
       "      <th>7</th>\n",
       "      <td>0.031446</td>\n",
       "      <td>vehicle_year_2014.0</td>\n",
       "    </tr>\n",
       "    <tr>\n",
       "      <th>8</th>\n",
       "      <td>0.031166</td>\n",
       "      <td>signup_os_android web</td>\n",
       "    </tr>\n",
       "    <tr>\n",
       "      <th>9</th>\n",
       "      <td>0.028781</td>\n",
       "      <td>city_name_Strark</td>\n",
       "    </tr>\n",
       "    <tr>\n",
       "      <th>10</th>\n",
       "      <td>0.027635</td>\n",
       "      <td>city_name_Berton</td>\n",
       "    </tr>\n",
       "    <tr>\n",
       "      <th>11</th>\n",
       "      <td>0.026912</td>\n",
       "      <td>vehicle_year_2016.0</td>\n",
       "    </tr>\n",
       "    <tr>\n",
       "      <th>12</th>\n",
       "      <td>0.023661</td>\n",
       "      <td>signup_os_mac</td>\n",
       "    </tr>\n",
       "    <tr>\n",
       "      <th>13</th>\n",
       "      <td>0.022915</td>\n",
       "      <td>vehicle_year_2012.0</td>\n",
       "    </tr>\n",
       "    <tr>\n",
       "      <th>14</th>\n",
       "      <td>0.018592</td>\n",
       "      <td>vehicle_year_2011.0</td>\n",
       "    </tr>\n",
       "    <tr>\n",
       "      <th>15</th>\n",
       "      <td>0.017223</td>\n",
       "      <td>vehicle_make_Nissan</td>\n",
       "    </tr>\n",
       "    <tr>\n",
       "      <th>16</th>\n",
       "      <td>0.016901</td>\n",
       "      <td>signup_os_other</td>\n",
       "    </tr>\n",
       "    <tr>\n",
       "      <th>17</th>\n",
       "      <td>0.016457</td>\n",
       "      <td>vehicle_make_Ford</td>\n",
       "    </tr>\n",
       "    <tr>\n",
       "      <th>18</th>\n",
       "      <td>0.015181</td>\n",
       "      <td>vehicle_year_2008.0</td>\n",
       "    </tr>\n",
       "    <tr>\n",
       "      <th>19</th>\n",
       "      <td>0.014689</td>\n",
       "      <td>vehicle_year_2007.0</td>\n",
       "    </tr>\n",
       "  </tbody>\n",
       "</table>\n",
       "</div>"
      ],
      "text/plain": [
       "    importance                    name\n",
       "0     0.064774     vehicle_make_Toyota\n",
       "1     0.046587     vehicle_year_2015.0\n",
       "2     0.036611     signup_channel_Paid\n",
       "3     0.036540       signup_os_ios web\n",
       "4     0.035506  signup_channel_Organic\n",
       "5     0.033014     vehicle_year_2013.0\n",
       "6     0.031982      vehicle_make_Honda\n",
       "7     0.031446     vehicle_year_2014.0\n",
       "8     0.031166   signup_os_android web\n",
       "9     0.028781        city_name_Strark\n",
       "10    0.027635        city_name_Berton\n",
       "11    0.026912     vehicle_year_2016.0\n",
       "12    0.023661           signup_os_mac\n",
       "13    0.022915     vehicle_year_2012.0\n",
       "14    0.018592     vehicle_year_2011.0\n",
       "15    0.017223     vehicle_make_Nissan\n",
       "16    0.016901         signup_os_other\n",
       "17    0.016457       vehicle_make_Ford\n",
       "18    0.015181     vehicle_year_2008.0\n",
       "19    0.014689     vehicle_year_2007.0"
      ]
     },
     "execution_count": 69,
     "metadata": {},
     "output_type": "execute_result"
    }
   ],
   "source": [
    "rf_importances = pd.DataFrame({'name':train[dummy_categoricals].columns,\n",
    "                               'importance':rf.feature_importances_\n",
    "                              }).sort_values(by='importance', ascending=False).reset_index(drop=True)\n",
    "rf_importances.head(20)"
   ]
  },
  {
   "cell_type": "markdown",
   "metadata": {},
   "source": [
    "# gradient boosting classifier"
   ]
  },
  {
   "cell_type": "code",
   "execution_count": 236,
   "metadata": {
    "collapsed": false
   },
   "outputs": [
    {
     "data": {
      "text/plain": [
       "GradientBoostingClassifier(init=None, learning_rate=0.1, loss='deviance',\n",
       "              max_depth=None, max_features=None, max_leaf_nodes=4,\n",
       "              min_samples_leaf=1, min_samples_split=5,\n",
       "              min_weight_fraction_leaf=0.0, n_estimators=1000,\n",
       "              presort='auto', random_state=2, subsample=0.5, verbose=0,\n",
       "              warm_start=False)"
      ]
     },
     "execution_count": 236,
     "metadata": {},
     "output_type": "execute_result"
    }
   ],
   "source": [
    "params = {'n_estimators': 1000, 'max_leaf_nodes': 4, 'max_depth': None, 'random_state': 2,\n",
    "                   'min_samples_split': 5,'learning_rate': 0.1, 'subsample': 0.5}\n",
    "\n",
    "clf = ensemble.GradientBoostingClassifier(**params)\n",
    "clf.fit(train[dummy_categoricals], train[target].values.ravel())"
   ]
  },
  {
   "cell_type": "code",
   "execution_count": 244,
   "metadata": {
    "collapsed": false
   },
   "outputs": [],
   "source": [
    "predicted_clf = clf.predict(test[dummy_categoricals])"
   ]
  },
  {
   "cell_type": "code",
   "execution_count": 245,
   "metadata": {
    "collapsed": false
   },
   "outputs": [
    {
     "name": "stdout",
     "output_type": "stream",
     "text": [
      "             precision    recall  f1-score   support\n",
      "\n",
      "    class 0       0.92      0.95      0.94     19328\n",
      "    class 1       0.50      0.36      0.42      2443\n",
      "\n",
      "avg / total       0.87      0.89      0.88     21771\n",
      "\n"
     ]
    }
   ],
   "source": [
    "target_names = ['class 0', 'class 1']\n",
    "print(classification_report(test[target], predicted_clf, target_names=target_names))"
   ]
  },
  {
   "cell_type": "code",
   "execution_count": 239,
   "metadata": {
    "collapsed": false
   },
   "outputs": [
    {
     "data": {
      "text/html": [
       "<div>\n",
       "<table border=\"1\" class=\"dataframe\">\n",
       "  <thead>\n",
       "    <tr style=\"text-align: right;\">\n",
       "      <th></th>\n",
       "      <th>importance</th>\n",
       "      <th>name</th>\n",
       "    </tr>\n",
       "  </thead>\n",
       "  <tbody>\n",
       "    <tr>\n",
       "      <th>0</th>\n",
       "      <td>0.023096</td>\n",
       "      <td>vehicle_year_2014.0</td>\n",
       "    </tr>\n",
       "    <tr>\n",
       "      <th>1</th>\n",
       "      <td>0.022669</td>\n",
       "      <td>vehicle_year_2015.0</td>\n",
       "    </tr>\n",
       "    <tr>\n",
       "      <th>2</th>\n",
       "      <td>0.020993</td>\n",
       "      <td>vehicle_year_2013.0</td>\n",
       "    </tr>\n",
       "    <tr>\n",
       "      <th>3</th>\n",
       "      <td>0.018081</td>\n",
       "      <td>vehicle_year_2010.0</td>\n",
       "    </tr>\n",
       "    <tr>\n",
       "      <th>4</th>\n",
       "      <td>0.017580</td>\n",
       "      <td>vehicle_year_2011.0</td>\n",
       "    </tr>\n",
       "    <tr>\n",
       "      <th>5</th>\n",
       "      <td>0.017567</td>\n",
       "      <td>vehicle_year_2016.0</td>\n",
       "    </tr>\n",
       "    <tr>\n",
       "      <th>6</th>\n",
       "      <td>0.017439</td>\n",
       "      <td>vehicle_year_2012.0</td>\n",
       "    </tr>\n",
       "    <tr>\n",
       "      <th>7</th>\n",
       "      <td>0.014932</td>\n",
       "      <td>signup_channel_Organic</td>\n",
       "    </tr>\n",
       "    <tr>\n",
       "      <th>8</th>\n",
       "      <td>0.014828</td>\n",
       "      <td>vehicle_year_2008.0</td>\n",
       "    </tr>\n",
       "    <tr>\n",
       "      <th>9</th>\n",
       "      <td>0.014639</td>\n",
       "      <td>vehicle_year_2007.0</td>\n",
       "    </tr>\n",
       "    <tr>\n",
       "      <th>10</th>\n",
       "      <td>0.014428</td>\n",
       "      <td>vehicle_year_2009.0</td>\n",
       "    </tr>\n",
       "    <tr>\n",
       "      <th>11</th>\n",
       "      <td>0.014361</td>\n",
       "      <td>vehicle_make_Toyota</td>\n",
       "    </tr>\n",
       "    <tr>\n",
       "      <th>12</th>\n",
       "      <td>0.012914</td>\n",
       "      <td>vehicle_year_2006.0</td>\n",
       "    </tr>\n",
       "    <tr>\n",
       "      <th>13</th>\n",
       "      <td>0.012890</td>\n",
       "      <td>vehicle_make_Honda</td>\n",
       "    </tr>\n",
       "    <tr>\n",
       "      <th>14</th>\n",
       "      <td>0.011791</td>\n",
       "      <td>signup_os_android web</td>\n",
       "    </tr>\n",
       "    <tr>\n",
       "      <th>15</th>\n",
       "      <td>0.011665</td>\n",
       "      <td>vehicle_year_2005.0</td>\n",
       "    </tr>\n",
       "    <tr>\n",
       "      <th>16</th>\n",
       "      <td>0.011055</td>\n",
       "      <td>vehicle_make_Nissan</td>\n",
       "    </tr>\n",
       "    <tr>\n",
       "      <th>17</th>\n",
       "      <td>0.010267</td>\n",
       "      <td>signup_os_mac</td>\n",
       "    </tr>\n",
       "    <tr>\n",
       "      <th>18</th>\n",
       "      <td>0.009897</td>\n",
       "      <td>signup_channel_Paid</td>\n",
       "    </tr>\n",
       "    <tr>\n",
       "      <th>19</th>\n",
       "      <td>0.009076</td>\n",
       "      <td>vehicle_year_2004.0</td>\n",
       "    </tr>\n",
       "  </tbody>\n",
       "</table>\n",
       "</div>"
      ],
      "text/plain": [
       "    importance                    name\n",
       "0     0.023096     vehicle_year_2014.0\n",
       "1     0.022669     vehicle_year_2015.0\n",
       "2     0.020993     vehicle_year_2013.0\n",
       "3     0.018081     vehicle_year_2010.0\n",
       "4     0.017580     vehicle_year_2011.0\n",
       "5     0.017567     vehicle_year_2016.0\n",
       "6     0.017439     vehicle_year_2012.0\n",
       "7     0.014932  signup_channel_Organic\n",
       "8     0.014828     vehicle_year_2008.0\n",
       "9     0.014639     vehicle_year_2007.0\n",
       "10    0.014428     vehicle_year_2009.0\n",
       "11    0.014361     vehicle_make_Toyota\n",
       "12    0.012914     vehicle_year_2006.0\n",
       "13    0.012890      vehicle_make_Honda\n",
       "14    0.011791   signup_os_android web\n",
       "15    0.011665     vehicle_year_2005.0\n",
       "16    0.011055     vehicle_make_Nissan\n",
       "17    0.010267           signup_os_mac\n",
       "18    0.009897     signup_channel_Paid\n",
       "19    0.009076     vehicle_year_2004.0"
      ]
     },
     "execution_count": 239,
     "metadata": {},
     "output_type": "execute_result"
    }
   ],
   "source": [
    "clf_importances = pd.DataFrame({'name':train[dummy_categoricals].columns,\n",
    "                               'importance':clf.feature_importances_\n",
    "                              }).sort_values(by='importance', ascending=False).reset_index(drop=True)\n",
    "clf_importances.head(20)"
   ]
  },
  {
   "cell_type": "markdown",
   "metadata": {},
   "source": [
    "# Lasso regression "
   ]
  },
  {
   "cell_type": "code",
   "execution_count": 110,
   "metadata": {
    "collapsed": false
   },
   "outputs": [
    {
     "name": "stdout",
     "output_type": "stream",
     "text": [
      "             precision    recall  f1-score   support\n",
      "\n",
      "    class 0       0.92      0.96      0.94     19322\n",
      "    class 1       0.53      0.38      0.44      2449\n",
      "\n",
      "avg / total       0.88      0.89      0.88     21771\n",
      "\n"
     ]
    }
   ],
   "source": [
    "from sklearn.linear_model import LogisticRegression\n",
    "C = 1.0\n",
    "lr = LogisticRegression(C=C, penalty='l1').fit(train[dummy_categoricals], train[target].values.ravel())\n",
    "predicted_lr = lr.predict(test[dummy_categoricals])\n",
    "print(classification_report(test[target], predicted_lr, target_names=target_names))"
   ]
  },
  {
   "cell_type": "code",
   "execution_count": 111,
   "metadata": {
    "collapsed": false
   },
   "outputs": [
    {
     "name": "stdout",
     "output_type": "stream",
     "text": [
      "             precision    recall  f1-score   support\n",
      "\n",
      "    class 0       0.92      0.96      0.94     19322\n",
      "    class 1       0.53      0.38      0.45      2449\n",
      "\n",
      "avg / total       0.88      0.89      0.89     21771\n",
      "\n"
     ]
    }
   ],
   "source": [
    "C = 1.0\n",
    "lr = LogisticRegression(C=C, penalty='l2').fit(train[dummy_categoricals], train[target].values.ravel())\n",
    "predicted_lr = lr.predict(test[dummy_categoricals])\n",
    "print(classification_report(test[target], predicted_lr, target_names=target_names))"
   ]
  },
  {
   "cell_type": "code",
   "execution_count": 258,
   "metadata": {
    "collapsed": false
   },
   "outputs": [],
   "source": [
    "from sklearn import svm\n",
    "X = train[ dummy_categoricals]\n",
    "y = train[target].values.ravel()\n",
    "\n",
    "C = 1.0\n",
    "\n",
    "svc = svm.SVC(kernel='linear', C=C).fit(X, y)\n",
    "rbf_svc = svm.SVC(kernel='rbf', gamma=0.7, C=C).fit(X, y)\n",
    "poly_svc = svm.SVC(kernel='poly', degree=3, C=C).fit(X, y)\n",
    "lin_svc = svm.LinearSVC(C=C).fit(X, y)"
   ]
  },
  {
   "cell_type": "code",
   "execution_count": 259,
   "metadata": {
    "collapsed": false
   },
   "outputs": [
    {
     "name": "stdout",
     "output_type": "stream",
     "text": [
      "             precision    recall  f1-score   support\n",
      "\n",
      "    class 0       0.91      0.96      0.94     19328\n",
      "    class 1       0.48      0.26      0.34      2443\n",
      "\n",
      "avg / total       0.86      0.89      0.87     21771\n",
      "\n"
     ]
    }
   ],
   "source": [
    "predicted_svc = svc.predict(test[dummy_categoricals])\n",
    "print(classification_report(test[target], predicted_svc, target_names=target_names))"
   ]
  },
  {
   "cell_type": "code",
   "execution_count": 260,
   "metadata": {
    "collapsed": false
   },
   "outputs": [
    {
     "name": "stdout",
     "output_type": "stream",
     "text": [
      "             precision    recall  f1-score   support\n",
      "\n",
      "    class 0       0.92      0.96      0.94     19328\n",
      "    class 1       0.49      0.35      0.41      2443\n",
      "\n",
      "avg / total       0.87      0.89      0.88     21771\n",
      "\n"
     ]
    }
   ],
   "source": [
    "predicted_rbfsvc = rbf_svc.predict(test[dummy_categoricals])\n",
    "print(classification_report(test[target], predicted_rbfsvc, target_names=target_names))"
   ]
  },
  {
   "cell_type": "code",
   "execution_count": 261,
   "metadata": {
    "collapsed": false
   },
   "outputs": [
    {
     "name": "stdout",
     "output_type": "stream",
     "text": [
      "             precision    recall  f1-score   support\n",
      "\n",
      "    class 0       0.89      1.00      0.94     19328\n",
      "    class 1       0.00      0.00      0.00      2443\n",
      "\n",
      "avg / total       0.79      0.89      0.84     21771\n",
      "\n"
     ]
    },
    {
     "name": "stderr",
     "output_type": "stream",
     "text": [
      "C:\\Users\\krish\\Anaconda3\\lib\\site-packages\\sklearn\\metrics\\classification.py:1074: UndefinedMetricWarning: Precision and F-score are ill-defined and being set to 0.0 in labels with no predicted samples.\n",
      "  'precision', 'predicted', average, warn_for)\n"
     ]
    }
   ],
   "source": [
    "predicted_polysvc = poly_svc.predict(test[dummy_categoricals])\n",
    "print(classification_report(test[target], predicted_polysvc, target_names=target_names))"
   ]
  },
  {
   "cell_type": "code",
   "execution_count": 263,
   "metadata": {
    "collapsed": false
   },
   "outputs": [
    {
     "name": "stdout",
     "output_type": "stream",
     "text": [
      "             precision    recall  f1-score   support\n",
      "\n",
      "    class 0       0.92      0.96      0.94     19328\n",
      "    class 1       0.51      0.36      0.42      2443\n",
      "\n",
      "avg / total       0.88      0.89      0.88     21771\n",
      "\n"
     ]
    }
   ],
   "source": [
    "predicted_lsvc = lin_svc.predict(test[dummy_categoricals])\n",
    "print(classification_report(test[target], predicted_lsvc, target_names=target_names))"
   ]
  },
  {
   "cell_type": "markdown",
   "metadata": {
    "collapsed": true
   },
   "source": [
    "# Findings\n",
    "\n",
    "1. Newer model vehicles have better activation rates\n",
    "2. Vehicle_make: toyota & honda & nissan have better activation rates\n",
    "3. Signup_channel: referral has better activation rate\n"
   ]
  }
 ],
 "metadata": {
  "kernelspec": {
   "display_name": "Python 3",
   "language": "python",
   "name": "python3"
  },
  "language_info": {
   "codemirror_mode": {
    "name": "ipython",
    "version": 3
   },
   "file_extension": ".py",
   "mimetype": "text/x-python",
   "name": "python",
   "nbconvert_exporter": "python",
   "pygments_lexer": "ipython3",
   "version": "3.5.1"
  }
 },
 "nbformat": 4,
 "nbformat_minor": 0
}
