{
 "cells": [
  {
   "cell_type": "code",
   "execution_count": 1,
   "metadata": {
    "collapsed": true
   },
   "outputs": [],
   "source": [
    "%matplotlib inline\n",
    "\n",
    "# scientific packages\n",
    "import numpy as np\n",
    "import scipy as sp\n",
    "import pandas as pd\n",
    "import patsy as pt\n",
    "import matplotlib.pyplot as plt\n",
    "import seaborn as sns\n",
    "from dateutil import relativedelta\n",
    "from geopy.distance import vincenty\n",
    "from geopy.distance import great_circle\n",
    "from pygeocoder import Geocoder\n",
    "sns.set();"
   ]
  },
  {
   "cell_type": "code",
   "execution_count": 2,
   "metadata": {
    "collapsed": false
   },
   "outputs": [
    {
     "data": {
      "text/html": [
       "<div>\n",
       "<table border=\"1\" class=\"dataframe\">\n",
       "  <thead>\n",
       "    <tr style=\"text-align: right;\">\n",
       "      <th></th>\n",
       "      <th>row_id</th>\n",
       "      <th>start_lng</th>\n",
       "      <th>start_lat</th>\n",
       "      <th>end_lng</th>\n",
       "      <th>end_lat</th>\n",
       "      <th>start_timestamp</th>\n",
       "      <th>duration</th>\n",
       "    </tr>\n",
       "  </thead>\n",
       "  <tbody>\n",
       "    <tr>\n",
       "      <th>0</th>\n",
       "      <td>0</td>\n",
       "      <td>-74.009087</td>\n",
       "      <td>40.713818</td>\n",
       "      <td>-74.004326</td>\n",
       "      <td>40.719986</td>\n",
       "      <td>1420950819</td>\n",
       "      <td>112</td>\n",
       "    </tr>\n",
       "    <tr>\n",
       "      <th>1</th>\n",
       "      <td>1</td>\n",
       "      <td>-73.971176</td>\n",
       "      <td>40.762428</td>\n",
       "      <td>-74.004181</td>\n",
       "      <td>40.742653</td>\n",
       "      <td>1420950819</td>\n",
       "      <td>1159</td>\n",
       "    </tr>\n",
       "    <tr>\n",
       "      <th>2</th>\n",
       "      <td>2</td>\n",
       "      <td>-73.994957</td>\n",
       "      <td>40.745079</td>\n",
       "      <td>-73.999939</td>\n",
       "      <td>40.734650</td>\n",
       "      <td>1421377541</td>\n",
       "      <td>281</td>\n",
       "    </tr>\n",
       "    <tr>\n",
       "      <th>3</th>\n",
       "      <td>3</td>\n",
       "      <td>-73.991127</td>\n",
       "      <td>40.750080</td>\n",
       "      <td>-73.988609</td>\n",
       "      <td>40.734890</td>\n",
       "      <td>1421377542</td>\n",
       "      <td>636</td>\n",
       "    </tr>\n",
       "    <tr>\n",
       "      <th>4</th>\n",
       "      <td>4</td>\n",
       "      <td>-73.945511</td>\n",
       "      <td>40.773724</td>\n",
       "      <td>-73.987434</td>\n",
       "      <td>40.755707</td>\n",
       "      <td>1422173586</td>\n",
       "      <td>705</td>\n",
       "    </tr>\n",
       "  </tbody>\n",
       "</table>\n",
       "</div>"
      ],
      "text/plain": [
       "   row_id  start_lng  start_lat    end_lng    end_lat  start_timestamp  \\\n",
       "0       0 -74.009087  40.713818 -74.004326  40.719986       1420950819   \n",
       "1       1 -73.971176  40.762428 -74.004181  40.742653       1420950819   \n",
       "2       2 -73.994957  40.745079 -73.999939  40.734650       1421377541   \n",
       "3       3 -73.991127  40.750080 -73.988609  40.734890       1421377542   \n",
       "4       4 -73.945511  40.773724 -73.987434  40.755707       1422173586   \n",
       "\n",
       "   duration  \n",
       "0       112  \n",
       "1      1159  \n",
       "2       281  \n",
       "3       636  \n",
       "4       705  "
      ]
     },
     "execution_count": 2,
     "metadata": {},
     "output_type": "execute_result"
    }
   ],
   "source": [
    "df = pd.read_csv('C:\\\\Users\\\\krish\\\\Downloads\\\\lyft\\\\train\\\\train.csv')\n",
    "df.head()"
   ]
  },
  {
   "cell_type": "code",
   "execution_count": 3,
   "metadata": {
    "collapsed": false
   },
   "outputs": [
    {
     "data": {
      "text/html": [
       "<div>\n",
       "<table border=\"1\" class=\"dataframe\">\n",
       "  <thead>\n",
       "    <tr style=\"text-align: right;\">\n",
       "      <th></th>\n",
       "      <th>row_id</th>\n",
       "      <th>start_lng</th>\n",
       "      <th>start_lat</th>\n",
       "      <th>end_lng</th>\n",
       "      <th>end_lat</th>\n",
       "      <th>start_timestamp</th>\n",
       "      <th>duration</th>\n",
       "    </tr>\n",
       "  </thead>\n",
       "  <tbody>\n",
       "    <tr>\n",
       "      <th>0</th>\n",
       "      <td>0</td>\n",
       "      <td>-74.009087</td>\n",
       "      <td>40.713818</td>\n",
       "      <td>-74.004326</td>\n",
       "      <td>40.719986</td>\n",
       "      <td>1420950819</td>\n",
       "      <td>112</td>\n",
       "    </tr>\n",
       "    <tr>\n",
       "      <th>1</th>\n",
       "      <td>1</td>\n",
       "      <td>-73.971176</td>\n",
       "      <td>40.762428</td>\n",
       "      <td>-74.004181</td>\n",
       "      <td>40.742653</td>\n",
       "      <td>1420950819</td>\n",
       "      <td>1159</td>\n",
       "    </tr>\n",
       "    <tr>\n",
       "      <th>2</th>\n",
       "      <td>2</td>\n",
       "      <td>-73.994957</td>\n",
       "      <td>40.745079</td>\n",
       "      <td>-73.999939</td>\n",
       "      <td>40.734650</td>\n",
       "      <td>1421377541</td>\n",
       "      <td>281</td>\n",
       "    </tr>\n",
       "    <tr>\n",
       "      <th>3</th>\n",
       "      <td>3</td>\n",
       "      <td>-73.991127</td>\n",
       "      <td>40.750080</td>\n",
       "      <td>-73.988609</td>\n",
       "      <td>40.734890</td>\n",
       "      <td>1421377542</td>\n",
       "      <td>636</td>\n",
       "    </tr>\n",
       "    <tr>\n",
       "      <th>4</th>\n",
       "      <td>4</td>\n",
       "      <td>-73.945511</td>\n",
       "      <td>40.773724</td>\n",
       "      <td>-73.987434</td>\n",
       "      <td>40.755707</td>\n",
       "      <td>1422173586</td>\n",
       "      <td>705</td>\n",
       "    </tr>\n",
       "  </tbody>\n",
       "</table>\n",
       "</div>"
      ],
      "text/plain": [
       "   row_id  start_lng  start_lat    end_lng    end_lat  start_timestamp  \\\n",
       "0       0 -74.009087  40.713818 -74.004326  40.719986       1420950819   \n",
       "1       1 -73.971176  40.762428 -74.004181  40.742653       1420950819   \n",
       "2       2 -73.994957  40.745079 -73.999939  40.734650       1421377541   \n",
       "3       3 -73.991127  40.750080 -73.988609  40.734890       1421377542   \n",
       "4       4 -73.945511  40.773724 -73.987434  40.755707       1422173586   \n",
       "\n",
       "   duration  \n",
       "0       112  \n",
       "1      1159  \n",
       "2       281  \n",
       "3       636  \n",
       "4       705  "
      ]
     },
     "execution_count": 3,
     "metadata": {},
     "output_type": "execute_result"
    }
   ],
   "source": [
    "df.set_index('row_id')\n",
    "df.head()"
   ]
  },
  {
   "cell_type": "code",
   "execution_count": 4,
   "metadata": {
    "collapsed": false
   },
   "outputs": [
    {
     "name": "stdout",
     "output_type": "stream",
     "text": [
      "row_id 0\n",
      "start_lng 0\n",
      "start_lat 0\n",
      "end_lng 0\n",
      "end_lat 0\n",
      "start_timestamp 0\n",
      "duration 0\n"
     ]
    }
   ],
   "source": [
    "for col in df:\n",
    "    print (col, pd.isnull(df[col]).sum())"
   ]
  },
  {
   "cell_type": "code",
   "execution_count": 5,
   "metadata": {
    "collapsed": false
   },
   "outputs": [
    {
     "data": {
      "text/plain": [
       "12905715"
      ]
     },
     "execution_count": 5,
     "metadata": {},
     "output_type": "execute_result"
    }
   ],
   "source": [
    "len(df['row_id'].unique())"
   ]
  },
  {
   "cell_type": "code",
   "execution_count": 6,
   "metadata": {
    "collapsed": false
   },
   "outputs": [
    {
     "data": {
      "text/plain": [
       "count    12905715.000000\n",
       "mean           40.750647\n",
       "std             0.027897\n",
       "min            40.368916\n",
       "25%            40.736973\n",
       "50%            40.753590\n",
       "75%            40.767925\n",
       "max            41.031418\n",
       "Name: start_lat, dtype: float64"
      ]
     },
     "execution_count": 6,
     "metadata": {},
     "output_type": "execute_result"
    }
   ],
   "source": [
    "df['start_lat'].describe()"
   ]
  },
  {
   "cell_type": "code",
   "execution_count": 7,
   "metadata": {
    "collapsed": false
   },
   "outputs": [
    {
     "data": {
      "text/plain": [
       "count    12905715.000000\n",
       "mean          -73.973822\n",
       "std             0.038003\n",
       "min           -74.514618\n",
       "25%           -73.992058\n",
       "50%           -73.981956\n",
       "75%           -73.967735\n",
       "max           -73.414452\n",
       "Name: start_lng, dtype: float64"
      ]
     },
     "execution_count": 7,
     "metadata": {},
     "output_type": "execute_result"
    }
   ],
   "source": [
    "df['start_lng'].describe()"
   ]
  },
  {
   "cell_type": "code",
   "execution_count": 8,
   "metadata": {
    "collapsed": false
   },
   "outputs": [
    {
     "data": {
      "text/plain": [
       "count    12905715.000000\n",
       "mean           40.751406\n",
       "std             0.031921\n",
       "min            40.368874\n",
       "25%            40.735523\n",
       "50%            40.754078\n",
       "75%            40.769054\n",
       "max            41.031509\n",
       "Name: end_lat, dtype: float64"
      ]
     },
     "execution_count": 8,
     "metadata": {},
     "output_type": "execute_result"
    }
   ],
   "source": [
    "df['end_lat'].describe()"
   ]
  },
  {
   "cell_type": "code",
   "execution_count": 9,
   "metadata": {
    "collapsed": false
   },
   "outputs": [
    {
     "data": {
      "text/plain": [
       "count    12905715.000000\n",
       "mean          -73.973579\n",
       "std             0.035899\n",
       "min           -74.517853\n",
       "25%           -73.991425\n",
       "50%           -73.980087\n",
       "75%           -73.963509\n",
       "max           -73.414352\n",
       "Name: end_lng, dtype: float64"
      ]
     },
     "execution_count": 9,
     "metadata": {},
     "output_type": "execute_result"
    }
   ],
   "source": [
    "df['end_lng'].describe()"
   ]
  },
  {
   "cell_type": "markdown",
   "metadata": {},
   "source": [
    "# findings\n",
    "    No Null values . \n",
    "    All data coming from a samll region ( std and range of lat long is small)"
   ]
  },
  {
   "cell_type": "code",
   "execution_count": 10,
   "metadata": {
    "collapsed": false
   },
   "outputs": [
    {
     "data": {
      "text/plain": [
       "2581143"
      ]
     },
     "execution_count": 10,
     "metadata": {},
     "output_type": "execute_result"
    }
   ],
   "source": [
    "# To accomodate the dataset for the machine ,using sample of X(20) percent for further processing \n",
    "\n",
    "from random import sample\n",
    "df_frac = df.sample(frac = 0.2) # set sample fraction\n",
    "df = df_frac\n",
    "del df_frac\n",
    "len(df['row_id'].unique())"
   ]
  },
  {
   "cell_type": "markdown",
   "metadata": {},
   "source": [
    "# Deriving new features"
   ]
  },
  {
   "cell_type": "code",
   "execution_count": 11,
   "metadata": {
    "collapsed": false
   },
   "outputs": [
    {
     "data": {
      "text/html": [
       "<div>\n",
       "<table border=\"1\" class=\"dataframe\">\n",
       "  <thead>\n",
       "    <tr style=\"text-align: right;\">\n",
       "      <th></th>\n",
       "      <th>row_id</th>\n",
       "      <th>start_lng</th>\n",
       "      <th>start_lat</th>\n",
       "      <th>end_lng</th>\n",
       "      <th>end_lat</th>\n",
       "      <th>start_timestamp</th>\n",
       "      <th>duration</th>\n",
       "      <th>start_dts</th>\n",
       "    </tr>\n",
       "  </thead>\n",
       "  <tbody>\n",
       "    <tr>\n",
       "      <th>9317837</th>\n",
       "      <td>9317837</td>\n",
       "      <td>-73.954384</td>\n",
       "      <td>40.815933</td>\n",
       "      <td>-73.952866</td>\n",
       "      <td>40.810638</td>\n",
       "      <td>1442669786</td>\n",
       "      <td>153</td>\n",
       "      <td>2015-09-19 13:36:26</td>\n",
       "    </tr>\n",
       "    <tr>\n",
       "      <th>1914969</th>\n",
       "      <td>1914969</td>\n",
       "      <td>-73.962456</td>\n",
       "      <td>40.767109</td>\n",
       "      <td>-73.973579</td>\n",
       "      <td>40.747761</td>\n",
       "      <td>1422831985</td>\n",
       "      <td>616</td>\n",
       "      <td>2015-02-01 23:06:25</td>\n",
       "    </tr>\n",
       "    <tr>\n",
       "      <th>2881492</th>\n",
       "      <td>2881492</td>\n",
       "      <td>-73.988182</td>\n",
       "      <td>40.737610</td>\n",
       "      <td>-73.978203</td>\n",
       "      <td>40.751400</td>\n",
       "      <td>1426651952</td>\n",
       "      <td>390</td>\n",
       "      <td>2015-03-18 04:12:32</td>\n",
       "    </tr>\n",
       "    <tr>\n",
       "      <th>10458772</th>\n",
       "      <td>10458772</td>\n",
       "      <td>-73.980667</td>\n",
       "      <td>40.730549</td>\n",
       "      <td>-73.975700</td>\n",
       "      <td>40.721939</td>\n",
       "      <td>1445308729</td>\n",
       "      <td>278</td>\n",
       "      <td>2015-10-20 02:38:49</td>\n",
       "    </tr>\n",
       "    <tr>\n",
       "      <th>3233518</th>\n",
       "      <td>3233518</td>\n",
       "      <td>-73.996628</td>\n",
       "      <td>40.763096</td>\n",
       "      <td>-73.986465</td>\n",
       "      <td>40.730244</td>\n",
       "      <td>1426916631</td>\n",
       "      <td>873</td>\n",
       "      <td>2015-03-21 05:43:51</td>\n",
       "    </tr>\n",
       "  </tbody>\n",
       "</table>\n",
       "</div>"
      ],
      "text/plain": [
       "            row_id  start_lng  start_lat    end_lng    end_lat  \\\n",
       "9317837    9317837 -73.954384  40.815933 -73.952866  40.810638   \n",
       "1914969    1914969 -73.962456  40.767109 -73.973579  40.747761   \n",
       "2881492    2881492 -73.988182  40.737610 -73.978203  40.751400   \n",
       "10458772  10458772 -73.980667  40.730549 -73.975700  40.721939   \n",
       "3233518    3233518 -73.996628  40.763096 -73.986465  40.730244   \n",
       "\n",
       "          start_timestamp  duration           start_dts  \n",
       "9317837        1442669786       153 2015-09-19 13:36:26  \n",
       "1914969        1422831985       616 2015-02-01 23:06:25  \n",
       "2881492        1426651952       390 2015-03-18 04:12:32  \n",
       "10458772       1445308729       278 2015-10-20 02:38:49  \n",
       "3233518        1426916631       873 2015-03-21 05:43:51  "
      ]
     },
     "execution_count": 11,
     "metadata": {},
     "output_type": "execute_result"
    }
   ],
   "source": [
    "df[\"start_dts\"] = pd.to_datetime(df[\"start_timestamp\"], unit='s')\n",
    "df.head()"
   ]
  },
  {
   "cell_type": "code",
   "execution_count": 12,
   "metadata": {
    "collapsed": false
   },
   "outputs": [
    {
     "data": {
      "text/html": [
       "<div>\n",
       "<table border=\"1\" class=\"dataframe\">\n",
       "  <thead>\n",
       "    <tr style=\"text-align: right;\">\n",
       "      <th></th>\n",
       "      <th>row_id</th>\n",
       "      <th>start_lng</th>\n",
       "      <th>start_lat</th>\n",
       "      <th>end_lng</th>\n",
       "      <th>end_lat</th>\n",
       "      <th>start_timestamp</th>\n",
       "      <th>duration</th>\n",
       "      <th>start_dts</th>\n",
       "      <th>start_month</th>\n",
       "      <th>start_day_of_month</th>\n",
       "      <th>start_day_of_week</th>\n",
       "      <th>start_hour</th>\n",
       "    </tr>\n",
       "  </thead>\n",
       "  <tbody>\n",
       "    <tr>\n",
       "      <th>9317837</th>\n",
       "      <td>9317837</td>\n",
       "      <td>-73.954384</td>\n",
       "      <td>40.815933</td>\n",
       "      <td>-73.952866</td>\n",
       "      <td>40.810638</td>\n",
       "      <td>1442669786</td>\n",
       "      <td>153</td>\n",
       "      <td>2015-09-19 13:36:26</td>\n",
       "      <td>9</td>\n",
       "      <td>19</td>\n",
       "      <td>5</td>\n",
       "      <td>13</td>\n",
       "    </tr>\n",
       "    <tr>\n",
       "      <th>1914969</th>\n",
       "      <td>1914969</td>\n",
       "      <td>-73.962456</td>\n",
       "      <td>40.767109</td>\n",
       "      <td>-73.973579</td>\n",
       "      <td>40.747761</td>\n",
       "      <td>1422831985</td>\n",
       "      <td>616</td>\n",
       "      <td>2015-02-01 23:06:25</td>\n",
       "      <td>2</td>\n",
       "      <td>1</td>\n",
       "      <td>6</td>\n",
       "      <td>23</td>\n",
       "    </tr>\n",
       "    <tr>\n",
       "      <th>2881492</th>\n",
       "      <td>2881492</td>\n",
       "      <td>-73.988182</td>\n",
       "      <td>40.737610</td>\n",
       "      <td>-73.978203</td>\n",
       "      <td>40.751400</td>\n",
       "      <td>1426651952</td>\n",
       "      <td>390</td>\n",
       "      <td>2015-03-18 04:12:32</td>\n",
       "      <td>3</td>\n",
       "      <td>18</td>\n",
       "      <td>2</td>\n",
       "      <td>4</td>\n",
       "    </tr>\n",
       "    <tr>\n",
       "      <th>10458772</th>\n",
       "      <td>10458772</td>\n",
       "      <td>-73.980667</td>\n",
       "      <td>40.730549</td>\n",
       "      <td>-73.975700</td>\n",
       "      <td>40.721939</td>\n",
       "      <td>1445308729</td>\n",
       "      <td>278</td>\n",
       "      <td>2015-10-20 02:38:49</td>\n",
       "      <td>10</td>\n",
       "      <td>20</td>\n",
       "      <td>1</td>\n",
       "      <td>2</td>\n",
       "    </tr>\n",
       "    <tr>\n",
       "      <th>3233518</th>\n",
       "      <td>3233518</td>\n",
       "      <td>-73.996628</td>\n",
       "      <td>40.763096</td>\n",
       "      <td>-73.986465</td>\n",
       "      <td>40.730244</td>\n",
       "      <td>1426916631</td>\n",
       "      <td>873</td>\n",
       "      <td>2015-03-21 05:43:51</td>\n",
       "      <td>3</td>\n",
       "      <td>21</td>\n",
       "      <td>5</td>\n",
       "      <td>5</td>\n",
       "    </tr>\n",
       "  </tbody>\n",
       "</table>\n",
       "</div>"
      ],
      "text/plain": [
       "            row_id  start_lng  start_lat    end_lng    end_lat  \\\n",
       "9317837    9317837 -73.954384  40.815933 -73.952866  40.810638   \n",
       "1914969    1914969 -73.962456  40.767109 -73.973579  40.747761   \n",
       "2881492    2881492 -73.988182  40.737610 -73.978203  40.751400   \n",
       "10458772  10458772 -73.980667  40.730549 -73.975700  40.721939   \n",
       "3233518    3233518 -73.996628  40.763096 -73.986465  40.730244   \n",
       "\n",
       "          start_timestamp  duration           start_dts  start_month  \\\n",
       "9317837        1442669786       153 2015-09-19 13:36:26            9   \n",
       "1914969        1422831985       616 2015-02-01 23:06:25            2   \n",
       "2881492        1426651952       390 2015-03-18 04:12:32            3   \n",
       "10458772       1445308729       278 2015-10-20 02:38:49           10   \n",
       "3233518        1426916631       873 2015-03-21 05:43:51            3   \n",
       "\n",
       "          start_day_of_month  start_day_of_week  start_hour  \n",
       "9317837                   19                  5          13  \n",
       "1914969                    1                  6          23  \n",
       "2881492                   18                  2           4  \n",
       "10458772                  20                  1           2  \n",
       "3233518                   21                  5           5  "
      ]
     },
     "execution_count": 12,
     "metadata": {},
     "output_type": "execute_result"
    }
   ],
   "source": [
    "df[\"start_month\"] = df['start_dts'].dt.month\n",
    "df[\"start_day_of_month\"] = df['start_dts'].dt.day\n",
    "df[\"start_day_of_week\"] = df['start_dts'].dt.dayofweek\n",
    "df[\"start_hour\"] = df['start_dts'].dt.hour\n",
    "df.head()\n"
   ]
  },
  {
   "cell_type": "code",
   "execution_count": null,
   "metadata": {
    "collapsed": false
   },
   "outputs": [
    {
     "data": {
      "text/html": [
       "<div>\n",
       "<table border=\"1\" class=\"dataframe\">\n",
       "  <thead>\n",
       "    <tr style=\"text-align: right;\">\n",
       "      <th></th>\n",
       "      <th>row_id</th>\n",
       "      <th>start_lng</th>\n",
       "      <th>start_lat</th>\n",
       "      <th>end_lng</th>\n",
       "      <th>end_lat</th>\n",
       "      <th>start_timestamp</th>\n",
       "      <th>duration</th>\n",
       "      <th>start_dts</th>\n",
       "      <th>start_month</th>\n",
       "      <th>start_day_of_month</th>\n",
       "      <th>start_day_of_week</th>\n",
       "      <th>start_hour</th>\n",
       "      <th>dist_meters</th>\n",
       "      <th>log_dist_meters</th>\n",
       "      <th>log_duration</th>\n",
       "    </tr>\n",
       "  </thead>\n",
       "  <tbody>\n",
       "    <tr>\n",
       "      <th>9317837</th>\n",
       "      <td>9317837</td>\n",
       "      <td>-73.954384</td>\n",
       "      <td>40.815933</td>\n",
       "      <td>-73.952866</td>\n",
       "      <td>40.810638</td>\n",
       "      <td>1442669786</td>\n",
       "      <td>153</td>\n",
       "      <td>2015-09-19 13:36:26</td>\n",
       "      <td>9</td>\n",
       "      <td>19</td>\n",
       "      <td>5</td>\n",
       "      <td>13</td>\n",
       "      <td>601.798173</td>\n",
       "      <td>6.399922</td>\n",
       "      <td>5.030438</td>\n",
       "    </tr>\n",
       "    <tr>\n",
       "      <th>1914969</th>\n",
       "      <td>1914969</td>\n",
       "      <td>-73.962456</td>\n",
       "      <td>40.767109</td>\n",
       "      <td>-73.973579</td>\n",
       "      <td>40.747761</td>\n",
       "      <td>1422831985</td>\n",
       "      <td>616</td>\n",
       "      <td>2015-02-01 23:06:25</td>\n",
       "      <td>2</td>\n",
       "      <td>1</td>\n",
       "      <td>6</td>\n",
       "      <td>23</td>\n",
       "      <td>2344.910075</td>\n",
       "      <td>7.760002</td>\n",
       "      <td>6.423247</td>\n",
       "    </tr>\n",
       "    <tr>\n",
       "      <th>2881492</th>\n",
       "      <td>2881492</td>\n",
       "      <td>-73.988182</td>\n",
       "      <td>40.737610</td>\n",
       "      <td>-73.978203</td>\n",
       "      <td>40.751400</td>\n",
       "      <td>1426651952</td>\n",
       "      <td>390</td>\n",
       "      <td>2015-03-18 04:12:32</td>\n",
       "      <td>3</td>\n",
       "      <td>18</td>\n",
       "      <td>2</td>\n",
       "      <td>4</td>\n",
       "      <td>1747.976862</td>\n",
       "      <td>7.466214</td>\n",
       "      <td>5.966147</td>\n",
       "    </tr>\n",
       "    <tr>\n",
       "      <th>10458772</th>\n",
       "      <td>10458772</td>\n",
       "      <td>-73.980667</td>\n",
       "      <td>40.730549</td>\n",
       "      <td>-73.975700</td>\n",
       "      <td>40.721939</td>\n",
       "      <td>1445308729</td>\n",
       "      <td>278</td>\n",
       "      <td>2015-10-20 02:38:49</td>\n",
       "      <td>10</td>\n",
       "      <td>20</td>\n",
       "      <td>1</td>\n",
       "      <td>2</td>\n",
       "      <td>1044.158039</td>\n",
       "      <td>6.950966</td>\n",
       "      <td>5.627621</td>\n",
       "    </tr>\n",
       "    <tr>\n",
       "      <th>3233518</th>\n",
       "      <td>3233518</td>\n",
       "      <td>-73.996628</td>\n",
       "      <td>40.763096</td>\n",
       "      <td>-73.986465</td>\n",
       "      <td>40.730244</td>\n",
       "      <td>1426916631</td>\n",
       "      <td>873</td>\n",
       "      <td>2015-03-21 05:43:51</td>\n",
       "      <td>3</td>\n",
       "      <td>21</td>\n",
       "      <td>5</td>\n",
       "      <td>5</td>\n",
       "      <td>3747.794841</td>\n",
       "      <td>8.228923</td>\n",
       "      <td>6.771936</td>\n",
       "    </tr>\n",
       "  </tbody>\n",
       "</table>\n",
       "</div>"
      ],
      "text/plain": [
       "            row_id  start_lng  start_lat    end_lng    end_lat  \\\n",
       "9317837    9317837 -73.954384  40.815933 -73.952866  40.810638   \n",
       "1914969    1914969 -73.962456  40.767109 -73.973579  40.747761   \n",
       "2881492    2881492 -73.988182  40.737610 -73.978203  40.751400   \n",
       "10458772  10458772 -73.980667  40.730549 -73.975700  40.721939   \n",
       "3233518    3233518 -73.996628  40.763096 -73.986465  40.730244   \n",
       "\n",
       "          start_timestamp  duration           start_dts  start_month  \\\n",
       "9317837        1442669786       153 2015-09-19 13:36:26            9   \n",
       "1914969        1422831985       616 2015-02-01 23:06:25            2   \n",
       "2881492        1426651952       390 2015-03-18 04:12:32            3   \n",
       "10458772       1445308729       278 2015-10-20 02:38:49           10   \n",
       "3233518        1426916631       873 2015-03-21 05:43:51            3   \n",
       "\n",
       "          start_day_of_month  start_day_of_week  start_hour  dist_meters  \\\n",
       "9317837                   19                  5          13   601.798173   \n",
       "1914969                    1                  6          23  2344.910075   \n",
       "2881492                   18                  2           4  1747.976862   \n",
       "10458772                  20                  1           2  1044.158039   \n",
       "3233518                   21                  5           5  3747.794841   \n",
       "\n",
       "          log_dist_meters  log_duration  \n",
       "9317837          6.399922      5.030438  \n",
       "1914969          7.760002      6.423247  \n",
       "2881492          7.466214      5.966147  \n",
       "10458772         6.950966      5.627621  \n",
       "3233518          8.228923      6.771936  "
      ]
     },
     "execution_count": 13,
     "metadata": {},
     "output_type": "execute_result"
    }
   ],
   "source": [
    "\n",
    "def calc_distance (row):\n",
    "    start_latlong = str(row[\"start_lat\"]) + ',' + str(row[\"start_lng\"])\n",
    "    end_latlong = str(row[\"end_lat\"]) + ',' + str(row[\"end_lng\"])\n",
    "\n",
    "    if (start_latlong == end_latlong):\n",
    "        return 1 # Used 1 instead of 0 to aid log conversion\n",
    "    else:\n",
    "        return vincenty(start_latlong, end_latlong).meters # getting distance between start & end points in meters\n",
    "    \n",
    "df[\"dist_meters\"] = df.apply(calc_distance, axis=1)\n",
    "df[\"log_dist_meters\"] = np.log(df['dist_meters'])\n",
    "df[\"log_duration\"] = np.log(df['duration'])\n",
    "\n",
    "df.head()\n"
   ]
  },
  {
   "cell_type": "code",
   "execution_count": null,
   "metadata": {
    "collapsed": false
   },
   "outputs": [],
   "source": [
    "plt.figure(figsize=(18,8))\n",
    "ax = sns.regplot(x=\"log_dist_meters\", y=\"log_duration\", data=df , x_bins=10)"
   ]
  },
  {
   "cell_type": "code",
   "execution_count": null,
   "metadata": {
    "collapsed": false
   },
   "outputs": [],
   "source": [
    "sp.stats.pearsonr(df[\"log_dist_meters\"], df[\"log_duration\"])"
   ]
  },
  {
   "cell_type": "code",
   "execution_count": null,
   "metadata": {
    "collapsed": false
   },
   "outputs": [],
   "source": [
    "sns.pairplot(df,  vars=[ 'log_dist_meters', 'log_duration', 'start_day_of_week'], diag_kind='kde')"
   ]
  },
  {
   "cell_type": "markdown",
   "metadata": {},
   "source": [
    "# findings \n",
    "    Strong correlation between log_duration and log_distance\n"
   ]
  },
  {
   "cell_type": "code",
   "execution_count": null,
   "metadata": {
    "collapsed": false
   },
   "outputs": [],
   "source": [
    "plt.figure(figsize=(18,8))\n",
    "sns.pointplot(x=\"start_hour\", y=\"log_duration\", data=df);"
   ]
  },
  {
   "cell_type": "code",
   "execution_count": null,
   "metadata": {
    "collapsed": false
   },
   "outputs": [],
   "source": [
    "plt.figure(figsize=(18,8))\n",
    "sns.pointplot(x=\"start_hour\", y=\"log_duration\", data=df, hue = \"start_day_of_week\");"
   ]
  },
  {
   "cell_type": "markdown",
   "metadata": {},
   "source": [
    "# findings \n",
    "0  - Monday\n",
    "6  - Sunday\n",
    "    1) There is clear distinction in mean duration pattern between weekdays and weekends (around 15-20 hours). This may be due to less traffic during evening peak hours during weekends.\n",
    "    2) Early morning duration is relatively high in latter part of the week compared to earlier part of the week. This may be due to people usecases are different in weekends and friday ( like party compared to weekday)."
   ]
  },
  {
   "cell_type": "code",
   "execution_count": null,
   "metadata": {
    "collapsed": false
   },
   "outputs": [],
   "source": [
    "plt.figure(figsize=(18,8))\n",
    "sns.pointplot(x=\"start_day_of_week\", y=\"log_duration\", data=df);"
   ]
  },
  {
   "cell_type": "markdown",
   "metadata": {},
   "source": [
    "# findings\n",
    "    1) There is clear distinction in mean duration pattern between weekdays and weekends. This may be due to less traffic during evening peak hours during weekends.\n",
    "    "
   ]
  },
  {
   "cell_type": "markdown",
   "metadata": {},
   "source": [
    "# dummy variables"
   ]
  },
  {
   "cell_type": "code",
   "execution_count": null,
   "metadata": {
    "collapsed": true
   },
   "outputs": [],
   "source": [
    "df.columns"
   ]
  },
  {
   "cell_type": "code",
   "execution_count": null,
   "metadata": {
    "collapsed": true
   },
   "outputs": [],
   "source": [
    "features = [#'dist_meters',\n",
    "            'log_dist_meters',\n",
    "            'start_lat',\n",
    "            'start_lng',\n",
    "            'end_lat',\n",
    "            'end_lng'\n",
    "           ]\n",
    "\n",
    "categoricals = ['start_month',\n",
    "                'start_day_of_month',\n",
    "                'start_day_of_week',\n",
    "                'start_hour'\n",
    "               ]\n",
    "\n",
    "target = 'log_duration'\n",
    "# target = 'duration'"
   ]
  },
  {
   "cell_type": "code",
   "execution_count": null,
   "metadata": {
    "collapsed": false
   },
   "outputs": [],
   "source": [
    "dummy_categoricals = []\n",
    "for categorical in categoricals:\n",
    "    print (categorical, len(df[categorical].unique()))\n",
    "    drop_var = sorted(df[categorical].unique())[-1]\n",
    "    temp_df = pd.get_dummies(df[categorical], prefix=categorical)\n",
    "    df = pd.concat([df, temp_df], axis=1)\n",
    "    temp_df.drop('_'.join([categorical, str(drop_var)]), axis=1, inplace=True)\n",
    "    dummy_categoricals += temp_df.columns.tolist()"
   ]
  },
  {
   "cell_type": "code",
   "execution_count": null,
   "metadata": {
    "collapsed": false
   },
   "outputs": [],
   "source": [
    "len(dummy_categoricals)"
   ]
  },
  {
   "cell_type": "code",
   "execution_count": null,
   "metadata": {
    "collapsed": false
   },
   "outputs": [],
   "source": [
    "feature_names = features + dummy_categoricals\n",
    "feature_names"
   ]
  },
  {
   "cell_type": "markdown",
   "metadata": {},
   "source": [
    "# Model Building"
   ]
  },
  {
   "cell_type": "code",
   "execution_count": null,
   "metadata": {
    "collapsed": true
   },
   "outputs": [],
   "source": [
    "from sklearn.cross_validation import train_test_split\n",
    "from sklearn import linear_model\n",
    "from sklearn.metrics import mean_squared_error\n",
    "from sklearn.linear_model import BayesianRidge\n",
    "from sklearn.tree import DecisionTreeRegressor\n",
    "from sklearn import ensemble\n",
    "from sklearn.ensemble import RandomForestRegressor\n",
    "from sklearn.ensemble import GradientBoostingRegressor\n",
    "from sklearn.ensemble import AdaBoostRegressor\n",
    "from sklearn.svm import SVR\n",
    "from sklearn.kernel_ridge import KernelRidge"
   ]
  },
  {
   "cell_type": "code",
   "execution_count": null,
   "metadata": {
    "collapsed": true
   },
   "outputs": [],
   "source": [
    "train, test = train_test_split(df, test_size=0.4)"
   ]
  },
  {
   "cell_type": "markdown",
   "metadata": {},
   "source": [
    "# Gradient Boost Regressor"
   ]
  },
  {
   "cell_type": "code",
   "execution_count": null,
   "metadata": {
    "collapsed": false
   },
   "outputs": [],
   "source": [
    "params = {'n_estimators': 1000, 'max_depth': 7, 'min_samples_split': 1,'learning_rate': 0.1, 'loss': 'ls'}\n",
    "gb_regr = ensemble.GradientBoostingRegressor(**params)\n",
    "gb_regr.fit(train[feature_names], train[target])\n",
    "predicted = gb_regr.predict(test[feature_names])\n",
    "mean_squared_error(test[target], predicted)"
   ]
  },
  {
   "cell_type": "code",
   "execution_count": null,
   "metadata": {
    "collapsed": false
   },
   "outputs": [],
   "source": [
    "exp_predicted = np.exp(predicted)\n",
    "mean_squared_error(test['duration'], exp_predicted)"
   ]
  },
  {
   "cell_type": "code",
   "execution_count": null,
   "metadata": {
    "collapsed": false
   },
   "outputs": [],
   "source": [
    "gb_importances = pd.DataFrame({'name':train[feature_names].columns,\n",
    "                               'importance':gb_regr.feature_importances_\n",
    "                              }).sort_values(by='importance', ascending=False).reset_index(drop=True)\n",
    "gb_importances.head(20)"
   ]
  },
  {
   "cell_type": "code",
   "execution_count": null,
   "metadata": {
    "collapsed": false
   },
   "outputs": [],
   "source": [
    "params = {'n_estimators': 1000, 'max_depth': 7, 'min_samples_split': 1,'learning_rate': 0.1, 'loss': 'huber', 'alpha': 0.5}\n",
    "gb_regr = ensemble.GradientBoostingRegressor(**params)\n",
    "gb_regr.fit(train[feature_names], train[target])\n",
    "predicted = gb_regr.predict(test[feature_names])\n",
    "mean_squared_error(test[target], predicted)"
   ]
  },
  {
   "cell_type": "code",
   "execution_count": null,
   "metadata": {
    "collapsed": false
   },
   "outputs": [],
   "source": [
    "exp_predicted = np.exp(predicted)\n",
    "mean_squared_error(test['duration'], exp_predicted)"
   ]
  },
  {
   "cell_type": "code",
   "execution_count": null,
   "metadata": {
    "collapsed": false
   },
   "outputs": [],
   "source": [
    "gb_importances = pd.DataFrame({'name':train[feature_names].columns,\n",
    "                               'importance':gb_regr.feature_importances_\n",
    "                              }).sort_values(by='importance', ascending=False).reset_index(drop=True)\n",
    "gb_importances.head(20)"
   ]
  },
  {
   "cell_type": "code",
   "execution_count": null,
   "metadata": {
    "collapsed": false
   },
   "outputs": [],
   "source": [
    "params = {'n_estimators': 1000, 'max_depth': 7, 'min_samples_split': 1,'learning_rate': 0.1, 'loss': 'quantile', 'alpha': 0.5}\n",
    "gb_regr = ensemble.GradientBoostingRegressor(**params)\n",
    "gb_regr.fit(train[feature_names], train[target])\n",
    "predicted = gb_regr.predict(test[feature_names])\n",
    "mean_squared_error(test[target], predicted)"
   ]
  },
  {
   "cell_type": "code",
   "execution_count": null,
   "metadata": {
    "collapsed": false
   },
   "outputs": [],
   "source": [
    "exp_predicted = np.exp(predicted)\n",
    "mean_squared_error(test['duration'], exp_predicted)"
   ]
  },
  {
   "cell_type": "code",
   "execution_count": null,
   "metadata": {
    "collapsed": false
   },
   "outputs": [],
   "source": [
    "gb_importances = pd.DataFrame({'name':train[feature_names].columns,\n",
    "                               'importance':gb_regr.feature_importances_\n",
    "                              }).sort_values(by='importance', ascending=False).reset_index(drop=True)\n",
    "gb_importances.head(20)"
   ]
  },
  {
   "cell_type": "markdown",
   "metadata": {},
   "source": [
    "# Random Forest Regressor"
   ]
  },
  {
   "cell_type": "code",
   "execution_count": null,
   "metadata": {
    "collapsed": false
   },
   "outputs": [],
   "source": [
    "rf_regr = RandomForestRegressor(n_estimators=200)\n",
    "rf_regr.fit(train[feature_names], train[target])\n",
    "predicted = rf_regr.predict(test[feature_names])\n",
    "mean_squared_error(test[target], predicted)"
   ]
  },
  {
   "cell_type": "code",
   "execution_count": null,
   "metadata": {
    "collapsed": false
   },
   "outputs": [],
   "source": [
    "exp_predicted = np.exp(predicted)\n",
    "mean_squared_error(test['duration'], exp_predicted)"
   ]
  },
  {
   "cell_type": "code",
   "execution_count": null,
   "metadata": {
    "collapsed": false
   },
   "outputs": [],
   "source": [
    "rf_importances = pd.DataFrame({'name':train[feature_names].columns,\n",
    "                               'importance':rf_regr.feature_importances_\n",
    "                              }).sort_values(by='importance', ascending=False).reset_index(drop=True)\n",
    "rf_importances.head(20)"
   ]
  },
  {
   "cell_type": "markdown",
   "metadata": {},
   "source": [
    "# findings\n",
    "\n",
    "    1) Gradient boosting regressor (Boosting approach)\n",
    "        - Best performance for this dataset\n",
    "        - Ensemble methods are always result in better performance most of the time.\n",
    "        \n",
    "    2) Random forest regressor (Bagging approach)\n",
    "        - Second Best performance for this dataset \n",
    "        - Ensemble methods are always result in better performance most of the time.\n",
    "        - Size of dataset id relatively huge - so random forest can be easily distributed.\n",
    "        - No missing values in the dataset\n",
    "\n",
    "    "
   ]
  },
  {
   "cell_type": "markdown",
   "metadata": {},
   "source": [
    "# Testing"
   ]
  },
  {
   "cell_type": "code",
   "execution_count": null,
   "metadata": {
    "collapsed": false
   },
   "outputs": [],
   "source": [
    "df_test = pd.read_csv('C:\\\\Users\\\\krish\\\\Downloads\\\\lyft\\\\test\\\\test.csv')\n",
    "df_test.set_index('row_id')\n",
    "df_test[\"start_dts\"] = pd.to_datetime(df_test[\"start_timestamp\"], unit='s')\n",
    "df_test[\"start_year\"] = df_test['start_dts'].dt.year\n",
    "df_test[\"start_month\"] = df_test['start_dts'].dt.month\n",
    "df_test[\"start_day_of_month\"] = df_test['start_dts'].dt.day\n",
    "df_test[\"start_day_of_week\"] = df_test['start_dts'].dt.dayofweek\n",
    "df_test[\"start_hour\"] = df_test['start_dts'].dt.hour\n",
    "\n",
    "df_test[\"start_latlong\"] = df_test[['start_lat', 'start_lng']]\\\n",
    "    .apply(lambda x: ','.join(str(value) for value in x), axis=1)\n",
    "df_test[\"end_latlong\"] = df_test[['end_lat', 'end_lng']]\\\n",
    "    .apply(lambda x: ','.join(str(value) for value in x), axis=1)\n",
    "    \n",
    "df.head()"
   ]
  },
  {
   "cell_type": "code",
   "execution_count": null,
   "metadata": {
    "collapsed": false
   },
   "outputs": [],
   "source": [
    "def calc_distance (row):\n",
    "    if (row[\"start_latlong\"] == row[\"end_latlong\"]):\n",
    "        return 1\n",
    "    else:\n",
    "        return vincenty(row[\"start_latlong\"], row[\"end_latlong\"]).meters\n",
    "\n",
    "df_test[\"dist_meters\"] = df_test.apply(calc_distance, axis=1)\n",
    "df_test[\"log_dist_meters\"] = np.log(df_test['dist_meters'])\n",
    "\n",
    "df_test.drop('start_latlong', axis=1, inplace=True)\n",
    "df_test.drop('end_latlong', axis=1, inplace=True)\n",
    "df_test.head()"
   ]
  },
  {
   "cell_type": "code",
   "execution_count": null,
   "metadata": {
    "collapsed": false
   },
   "outputs": [],
   "source": [
    "for categorical in categoricals:\n",
    "    print (categorical, len(df_test[categorical].unique()))\n",
    "    drop_var = sorted(df_test[categorical].unique())[-1]\n",
    "    temp_df = pd.get_dummies(df_test[categorical], prefix=categorical)\n",
    "    df_test = pd.concat([df_test, temp_df], axis=1)\n",
    "    temp_df.drop('_'.join([categorical, str(drop_var)]), axis=1, inplace=True)\n",
    "    dummy_categoricals += temp_df.columns.tolist()"
   ]
  },
  {
   "cell_type": "code",
   "execution_count": null,
   "metadata": {
    "collapsed": false
   },
   "outputs": [],
   "source": [
    "log_predicted = gb_regr.predict(df_test[feature_names])"
   ]
  },
  {
   "cell_type": "code",
   "execution_count": null,
   "metadata": {
    "collapsed": false
   },
   "outputs": [],
   "source": [
    "test_res = df_test['row_id'] + np.exp(log_predicted)\n",
    "test_res.columns=[\"row_id\", \"duration\"]\n",
    "test_res.to_csv('C:\\\\Users\\\\krish\\\\Downloads\\\\lyft\\\\duration_act.csv', sep=',')"
   ]
  },
  {
   "cell_type": "markdown",
   "metadata": {},
   "source": [
    "# Additional improvements\n",
    "    1) Here geo lat long belongs to closed area (SD is small in describe). In case of developing a predictive model for wide geographical area, clustering of geo lat long like county,city, state, street etc will help in better prediction.\n",
    "    \n",
    "    2) Including signals like holidays, local events, festivals to geo may help in better duration prediction.\n",
    "    \n",
    "    3) Including traffic patterns , construction, accident, weather signals will also help in better prediction.\n",
    "    \n",
    "    "
   ]
  },
  {
   "cell_type": "code",
   "execution_count": null,
   "metadata": {
    "collapsed": true
   },
   "outputs": [],
   "source": []
  }
 ],
 "metadata": {
  "kernelspec": {
   "display_name": "Python 3",
   "language": "python",
   "name": "python3"
  },
  "language_info": {
   "codemirror_mode": {
    "name": "ipython",
    "version": 3
   },
   "file_extension": ".py",
   "mimetype": "text/x-python",
   "name": "python",
   "nbconvert_exporter": "python",
   "pygments_lexer": "ipython3",
   "version": "3.5.1"
  }
 },
 "nbformat": 4,
 "nbformat_minor": 0
}
